{
 "cells": [
  {
   "cell_type": "code",
   "execution_count": 1,
   "id": "6bb9ca6c",
   "metadata": {},
   "outputs": [
    {
     "name": "stdout",
     "output_type": "stream",
     "text": [
      "Defaulting to user installation because normal site-packages is not writeable\n",
      "Collecting indic_transliteration\n",
      "  Downloading indic_transliteration-2.3.59-py3-none-any.whl.metadata (1.4 kB)\n",
      "Requirement already satisfied: backports.functools-lru-cache in c:\\programdata\\anaconda3\\lib\\site-packages (from indic_transliteration) (1.6.4)\n",
      "Requirement already satisfied: regex in c:\\programdata\\anaconda3\\lib\\site-packages (from indic_transliteration) (2023.10.3)\n",
      "Requirement already satisfied: typer in c:\\users\\administrator.dai-pc2\\appdata\\roaming\\python\\python311\\site-packages (from indic_transliteration) (0.9.4)\n",
      "Requirement already satisfied: toml in c:\\programdata\\anaconda3\\lib\\site-packages (from indic_transliteration) (0.10.2)\n",
      "Collecting roman (from indic_transliteration)\n",
      "  Downloading roman-4.2-py3-none-any.whl.metadata (3.6 kB)\n",
      "Requirement already satisfied: click<9.0.0,>=7.1.1 in c:\\programdata\\anaconda3\\lib\\site-packages (from typer->indic_transliteration) (8.1.7)\n",
      "Requirement already satisfied: typing-extensions>=3.7.4.3 in c:\\programdata\\anaconda3\\lib\\site-packages (from typer->indic_transliteration) (4.9.0)\n",
      "Requirement already satisfied: colorama in c:\\programdata\\anaconda3\\lib\\site-packages (from click<9.0.0,>=7.1.1->typer->indic_transliteration) (0.4.6)\n",
      "Downloading indic_transliteration-2.3.59-py3-none-any.whl (152 kB)\n",
      "   ---------------------------------------- 0.0/152.1 kB ? eta -:--:--\n",
      "   ----------------------------- ---------- 112.6/152.1 kB 3.3 MB/s eta 0:00:01\n",
      "   ---------------------------------------- 152.1/152.1 kB 2.3 MB/s eta 0:00:00\n",
      "Downloading roman-4.2-py3-none-any.whl (5.5 kB)\n",
      "Installing collected packages: roman, indic_transliteration\n",
      "Successfully installed indic_transliteration-2.3.59 roman-4.2\n"
     ]
    },
    {
     "name": "stderr",
     "output_type": "stream",
     "text": [
      "  WARNING: The script roman.exe is installed in 'C:\\Users\\Administrator.DAI-PC2\\AppData\\Roaming\\Python\\Python311\\Scripts' which is not on PATH.\n",
      "  Consider adding this directory to PATH or, if you prefer to suppress this warning, use --no-warn-script-location.\n",
      "  WARNING: The script sanscript.exe is installed in 'C:\\Users\\Administrator.DAI-PC2\\AppData\\Roaming\\Python\\Python311\\Scripts' which is not on PATH.\n",
      "  Consider adding this directory to PATH or, if you prefer to suppress this warning, use --no-warn-script-location.\n"
     ]
    }
   ],
   "source": [
    "!pip install indic_transliteration "
   ]
  },
  {
   "cell_type": "code",
   "execution_count": 2,
   "id": "10f2373b",
   "metadata": {},
   "outputs": [],
   "source": [
    "from indic_transliteration import sanscript\n",
    "from indic_transliteration.sanscript import transliterate"
   ]
  },
  {
   "cell_type": "code",
   "execution_count": 19,
   "id": "d371a915",
   "metadata": {},
   "outputs": [],
   "source": [
    "data1 = 'maanasI'\n",
    "data2 = 'ameya'\n",
    "data3 = 'pratikShaa'\n",
    "data4 = 'pranava'\n",
    "data5 = 'mitaalI'"
   ]
  },
  {
   "cell_type": "code",
   "execution_count": 20,
   "id": "f7137023",
   "metadata": {},
   "outputs": [
    {
     "name": "stdout",
     "output_type": "stream",
     "text": [
      "मानसी\n",
      "अमेय\n",
      "प्रतिक्षा\n",
      "प्रनव\n",
      "मिताली\n"
     ]
    }
   ],
   "source": [
    "print(transliterate(data1, sanscript.ITRANS, sanscript.DEVANAGARI))\n",
    "print(transliterate(data2, sanscript.ITRANS, sanscript.DEVANAGARI))\n",
    "print(transliterate(data3, sanscript.ITRANS, sanscript.DEVANAGARI))\n",
    "print(transliterate(data4, sanscript.ITRANS, sanscript.DEVANAGARI))\n",
    "print(transliterate(data5, sanscript.ITRANS, sanscript.DEVANAGARI))"
   ]
  },
  {
   "cell_type": "code",
   "execution_count": 32,
   "id": "4f69aa65",
   "metadata": {},
   "outputs": [
    {
     "name": "stdout",
     "output_type": "stream",
     "text": [
      "Enter your name: kurukShetra\n",
      "कुरुक्षेत्र\n"
     ]
    }
   ],
   "source": [
    "dataa = input('Enter your name: ')\n",
    "print(transliterate(dataa, sanscript.ITRANS, sanscript.DEVANAGARI))"
   ]
  },
  {
   "cell_type": "code",
   "execution_count": null,
   "id": "6b507284",
   "metadata": {},
   "outputs": [],
   "source": []
  }
 ],
 "metadata": {
  "kernelspec": {
   "display_name": "Python 3 (ipykernel)",
   "language": "python",
   "name": "python3"
  },
  "language_info": {
   "codemirror_mode": {
    "name": "ipython",
    "version": 3
   },
   "file_extension": ".py",
   "mimetype": "text/x-python",
   "name": "python",
   "nbconvert_exporter": "python",
   "pygments_lexer": "ipython3",
   "version": "3.11.7"
  }
 },
 "nbformat": 4,
 "nbformat_minor": 5
}
