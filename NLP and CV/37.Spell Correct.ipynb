{
 "cells": [
  {
   "cell_type": "code",
   "execution_count": 1,
   "id": "84389ce8",
   "metadata": {},
   "outputs": [],
   "source": [
    "from textblob import TextBlob"
   ]
  },
  {
   "cell_type": "code",
   "execution_count": 11,
   "id": "6397e527",
   "metadata": {},
   "outputs": [],
   "source": [
    "text = TextBlob('robbor')"
   ]
  },
  {
   "cell_type": "code",
   "execution_count": 12,
   "id": "6d8cc8a0",
   "metadata": {},
   "outputs": [
    {
     "data": {
      "text/plain": [
       "TextBlob(\"robber\")"
      ]
     },
     "execution_count": 12,
     "metadata": {},
     "output_type": "execute_result"
    }
   ],
   "source": [
    "text.correct()"
   ]
  },
  {
   "cell_type": "code",
   "execution_count": 13,
   "id": "fd3f7ddb",
   "metadata": {},
   "outputs": [
    {
     "data": {
      "text/plain": [
       "TextBlob(\"robert\")"
      ]
     },
     "execution_count": 13,
     "metadata": {},
     "output_type": "execute_result"
    }
   ],
   "source": [
    "text = TextBlob('robbot')\n",
    "text.correct()"
   ]
  },
  {
   "cell_type": "code",
   "execution_count": 14,
   "id": "068d3440",
   "metadata": {},
   "outputs": [
    {
     "data": {
      "text/plain": [
       "TextBlob(\"computer\")"
      ]
     },
     "execution_count": 14,
     "metadata": {},
     "output_type": "execute_result"
    }
   ],
   "source": [
    "text = TextBlob('komputre')\n",
    "text.correct()"
   ]
  },
  {
   "cell_type": "code",
   "execution_count": 18,
   "id": "937f49fa",
   "metadata": {},
   "outputs": [
    {
     "data": {
      "text/plain": [
       "TextBlob(\"They are playing football on the ground\")"
      ]
     },
     "execution_count": 18,
     "metadata": {},
     "output_type": "execute_result"
    }
   ],
   "source": [
    "sent = 'They are playing fotball on the groud'\n",
    "text = TextBlob(sent)\n",
    "text.correct()"
   ]
  },
  {
   "cell_type": "code",
   "execution_count": 19,
   "id": "23d78e95",
   "metadata": {},
   "outputs": [
    {
     "data": {
      "text/plain": [
       "WordList(['They', 'are', 'playing', 'fotball', 'on', 'the', 'groud'])"
      ]
     },
     "execution_count": 19,
     "metadata": {},
     "output_type": "execute_result"
    }
   ],
   "source": [
    "sent = TextBlob(sent)\n",
    "sent.tokenize()"
   ]
  },
  {
   "cell_type": "code",
   "execution_count": 20,
   "id": "a94347d6",
   "metadata": {},
   "outputs": [
    {
     "data": {
      "text/plain": [
       "[('They', 'PRP'),\n",
       " ('are', 'VBP'),\n",
       " ('playing', 'VBG'),\n",
       " ('football', 'NN'),\n",
       " ('on', 'IN'),\n",
       " ('the', 'DT'),\n",
       " ('ground', 'NN')]"
      ]
     },
     "execution_count": 20,
     "metadata": {},
     "output_type": "execute_result"
    }
   ],
   "source": [
    "sent.correct().pos_tags"
   ]
  },
  {
   "cell_type": "code",
   "execution_count": null,
   "id": "d9a32db5",
   "metadata": {},
   "outputs": [],
   "source": []
  }
 ],
 "metadata": {
  "kernelspec": {
   "display_name": "Python 3 (ipykernel)",
   "language": "python",
   "name": "python3"
  },
  "language_info": {
   "codemirror_mode": {
    "name": "ipython",
    "version": 3
   },
   "file_extension": ".py",
   "mimetype": "text/x-python",
   "name": "python",
   "nbconvert_exporter": "python",
   "pygments_lexer": "ipython3",
   "version": "3.11.7"
  }
 },
 "nbformat": 4,
 "nbformat_minor": 5
}
