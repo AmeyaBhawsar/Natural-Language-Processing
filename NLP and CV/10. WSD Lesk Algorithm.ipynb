{
 "cells": [
  {
   "cell_type": "code",
   "execution_count": 7,
   "id": "7d784000",
   "metadata": {},
   "outputs": [],
   "source": [
    "from nltk.wsd import lesk\n",
    "from nltk.tokenize import word_tokenize"
   ]
  },
  {
   "cell_type": "code",
   "execution_count": 12,
   "id": "5ebc43fc",
   "metadata": {},
   "outputs": [],
   "source": [
    "a1=lesk(word_tokenize('This device is used to jam the signal.'),'jam')"
   ]
  },
  {
   "cell_type": "code",
   "execution_count": 13,
   "id": "29ccb764",
   "metadata": {},
   "outputs": [
    {
     "data": {
      "text/plain": [
       "'deliberate radiation or reflection of electromagnetic energy for the purpose of disrupting enemy use of electronic devices or systems'"
      ]
     },
     "execution_count": 13,
     "metadata": {},
     "output_type": "execute_result"
    }
   ],
   "source": [
    "a1.definition()"
   ]
  },
  {
   "cell_type": "code",
   "execution_count": 11,
   "id": "a9e60822",
   "metadata": {},
   "outputs": [
    {
     "data": {
      "text/plain": [
       "'get stuck and immobilized'"
      ]
     },
     "execution_count": 11,
     "metadata": {},
     "output_type": "execute_result"
    }
   ],
   "source": [
    "a2=lesk(word_tokenize('It is a heavy traffic jam here. We are stuck at same place.'),'jam')\n",
    "a2.definition()"
   ]
  },
  {
   "cell_type": "code",
   "execution_count": 14,
   "id": "8b9078b5",
   "metadata": {},
   "outputs": [
    {
     "data": {
      "text/plain": [
       "'catch up with and possibly overtake'"
      ]
     },
     "execution_count": 14,
     "metadata": {},
     "output_type": "execute_result"
    }
   ],
   "source": [
    "a3=lesk(word_tokenize('You should catch that oppurtunity.'),'catch')\n",
    "a3.definition()"
   ]
  },
  {
   "cell_type": "code",
   "execution_count": 17,
   "id": "859cf347",
   "metadata": {},
   "outputs": [
    {
     "data": {
      "text/plain": [
       "'discover or come upon accidentally, suddenly, or unexpectedly; catch somebody doing something or in a certain state'"
      ]
     },
     "execution_count": 17,
     "metadata": {},
     "output_type": "execute_result"
    }
   ],
   "source": [
    "a4=lesk(word_tokenize('You should catch that ball in cricket.'),'catch')\n",
    "a4.definition()"
   ]
  },
  {
   "cell_type": "code",
   "execution_count": 18,
   "id": "d0d1e6ab",
   "metadata": {},
   "outputs": [
    {
     "data": {
      "text/plain": [
       "'a kind of person'"
      ]
     },
     "execution_count": 18,
     "metadata": {},
     "output_type": "execute_result"
    }
   ],
   "source": [
    "a5=lesk(word_tokenize('The association is like a bad combination'),'like')\n",
    "a5.definition()"
   ]
  },
  {
   "cell_type": "code",
   "execution_count": 20,
   "id": "d8ee65d6",
   "metadata": {},
   "outputs": [
    {
     "data": {
      "text/plain": [
       "'prefer or wish to do something'"
      ]
     },
     "execution_count": 20,
     "metadata": {},
     "output_type": "execute_result"
    }
   ],
   "source": [
    "a5=lesk(word_tokenize('I like to eat jam'),'like')\n",
    "a5.definition()"
   ]
  },
  {
   "cell_type": "code",
   "execution_count": null,
   "id": "30d9d2b2",
   "metadata": {},
   "outputs": [],
   "source": []
  },
  {
   "cell_type": "code",
   "execution_count": 32,
   "id": "11ffc822",
   "metadata": {},
   "outputs": [
    {
     "data": {
      "text/plain": [
       "'(color) inducing the impression of warmth; used especially of reds and oranges and yellows'"
      ]
     },
     "execution_count": 32,
     "metadata": {},
     "output_type": "execute_result"
    }
   ],
   "source": [
    "a6=lesk(word_tokenize('''The wet, or rainy, season is the time of year, covering one or more months, \n",
    "when most of the average annual rainfall in a region falls.[51] The term green season is also \n",
    "sometimes used as a euphemism by tourist authorities.[52] Areas with wet seasons are dispersed \n",
    "across portions of the tropics and subtropics.[53] Savanna climates and areas with monsoon \n",
    "regimes have wet summers and dry winters. Tropical rainforests technically do not have dry or \n",
    "wet seasons, since their rainfall is equally distributed through the year.[54] Some areas with \n",
    "pronounced rainy seasons will see a break in rainfall mid-season when the intertropical \n",
    "convergence zone or monsoon trough move poleward of their location during the middle of the \n",
    "warm season.[27] When the wet season occurs during the warm season, or summer, rain falls mainly \n",
    "during the late afternoon and early evening hours. The wet season is a time when air quality \n",
    "improves,[55] freshwater quality improves,[56][57] and vegetation grows significantly.'''),'warm')\n",
    "a6.definition()"
   ]
  },
  {
   "cell_type": "code",
   "execution_count": null,
   "id": "ab67f34a",
   "metadata": {},
   "outputs": [],
   "source": []
  }
 ],
 "metadata": {
  "kernelspec": {
   "display_name": "Python 3 (ipykernel)",
   "language": "python",
   "name": "python3"
  },
  "language_info": {
   "codemirror_mode": {
    "name": "ipython",
    "version": 3
   },
   "file_extension": ".py",
   "mimetype": "text/x-python",
   "name": "python",
   "nbconvert_exporter": "python",
   "pygments_lexer": "ipython3",
   "version": "3.11.7"
  }
 },
 "nbformat": 4,
 "nbformat_minor": 5
}
