{
 "cells": [
  {
   "cell_type": "markdown",
   "id": "c7d3d316",
   "metadata": {},
   "source": [
    "### Declare the words"
   ]
  },
  {
   "cell_type": "code",
   "execution_count": 2,
   "id": "0c2d1d0b",
   "metadata": {},
   "outputs": [],
   "source": [
    "words1 = 'managing','manage','management','managerial','managed'\n",
    "words2 = 'worked', 'workable', 'working'\n",
    "words3 = 'big','biggest', 'bigger'\n",
    "words4 = 'go','gone','went','going'\n",
    "words5 = 'child','children'\n",
    "words6='plays','playing','played','players'"
   ]
  },
  {
   "cell_type": "code",
   "execution_count": 3,
   "id": "ffe4b691",
   "metadata": {},
   "outputs": [],
   "source": [
    "from nltk.stem import WordNetLemmatizer"
   ]
  },
  {
   "cell_type": "code",
   "execution_count": 4,
   "id": "de7bd309",
   "metadata": {},
   "outputs": [],
   "source": [
    "wnl=WordNetLemmatizer()"
   ]
  },
  {
   "cell_type": "code",
   "execution_count": 5,
   "id": "b579aafe",
   "metadata": {},
   "outputs": [
    {
     "data": {
      "text/plain": [
       "'manage'"
      ]
     },
     "execution_count": 5,
     "metadata": {},
     "output_type": "execute_result"
    }
   ],
   "source": [
    "wnl.lemmatize(words1[0],pos='v')"
   ]
  },
  {
   "cell_type": "code",
   "execution_count": 7,
   "id": "c4dfeec0",
   "metadata": {},
   "outputs": [
    {
     "data": {
      "text/plain": [
       "'play'"
      ]
     },
     "execution_count": 7,
     "metadata": {},
     "output_type": "execute_result"
    }
   ],
   "source": [
    "wnl.lemmatize(words6[1],pos='v')"
   ]
  },
  {
   "cell_type": "code",
   "execution_count": 8,
   "id": "3cd002fb",
   "metadata": {},
   "outputs": [
    {
     "name": "stdout",
     "output_type": "stream",
     "text": [
      "went -----> go\n"
     ]
    }
   ],
   "source": [
    "print(words4[2], '----->',wnl.lemmatize(words4[2], pos = 'v')) # v = verb"
   ]
  },
  {
   "cell_type": "code",
   "execution_count": 9,
   "id": "ef202a44",
   "metadata": {},
   "outputs": [
    {
     "name": "stdout",
     "output_type": "stream",
     "text": [
      "biggest -----> big\n"
     ]
    }
   ],
   "source": [
    "print(words3[1], '----->',wnl.lemmatize(words3[1], pos = 'a')) # a = adjective"
   ]
  },
  {
   "cell_type": "code",
   "execution_count": 10,
   "id": "f3c56e6d",
   "metadata": {},
   "outputs": [
    {
     "name": "stdout",
     "output_type": "stream",
     "text": [
      "players -----> player\n"
     ]
    }
   ],
   "source": [
    "print(words6[3], '----->',wnl.lemmatize(words6[3], pos = 'n')) # n = noun"
   ]
  },
  {
   "cell_type": "code",
   "execution_count": 11,
   "id": "8c28deac",
   "metadata": {},
   "outputs": [
    {
     "name": "stdout",
     "output_type": "stream",
     "text": [
      "children -----> children\n"
     ]
    }
   ],
   "source": [
    "print(words5[1], '----->',wnl.lemmatize(words5[1], pos = 'r')) # r = adverb"
   ]
  },
  {
   "cell_type": "code",
   "execution_count": 20,
   "id": "ebf3b151",
   "metadata": {},
   "outputs": [
    {
     "name": "stdout",
     "output_type": "stream",
     "text": [
      "children -----> child\n"
     ]
    }
   ],
   "source": [
    "print(words5[1], '----->',wnl.lemmatize(words5[1], pos = 'n'))"
   ]
  },
  {
   "cell_type": "code",
   "execution_count": null,
   "id": "da4657ce",
   "metadata": {},
   "outputs": [],
   "source": []
  }
 ],
 "metadata": {
  "kernelspec": {
   "display_name": "Python 3 (ipykernel)",
   "language": "python",
   "name": "python3"
  },
  "language_info": {
   "codemirror_mode": {
    "name": "ipython",
    "version": 3
   },
   "file_extension": ".py",
   "mimetype": "text/x-python",
   "name": "python",
   "nbconvert_exporter": "python",
   "pygments_lexer": "ipython3",
   "version": "3.11.7"
  }
 },
 "nbformat": 4,
 "nbformat_minor": 5
}
