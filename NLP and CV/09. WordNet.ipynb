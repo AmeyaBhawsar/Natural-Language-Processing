{
 "cells": [
  {
   "cell_type": "code",
   "execution_count": 1,
   "id": "96b977ba",
   "metadata": {},
   "outputs": [],
   "source": [
    "from nltk.corpus import wordnet"
   ]
  },
  {
   "cell_type": "code",
   "execution_count": 2,
   "id": "c344127d",
   "metadata": {},
   "outputs": [
    {
     "data": {
      "text/plain": [
       "<WordNetCorpusReader in 'C:\\\\Users\\\\Administrator.DAI-PC2\\\\AppData\\\\Roaming\\\\nltk_data\\\\corpora\\\\wordnet.zip/wordnet/'>"
      ]
     },
     "execution_count": 2,
     "metadata": {},
     "output_type": "execute_result"
    }
   ],
   "source": [
    "wordnet"
   ]
  },
  {
   "cell_type": "code",
   "execution_count": 3,
   "id": "0f651ca2",
   "metadata": {},
   "outputs": [],
   "source": [
    "x=wordnet.synsets('create') #find synonyms of create"
   ]
  },
  {
   "cell_type": "code",
   "execution_count": 4,
   "id": "541e5b57",
   "metadata": {},
   "outputs": [
    {
     "data": {
      "text/plain": [
       "[Synset('make.v.03'),\n",
       " Synset('create.v.02'),\n",
       " Synset('create.v.03'),\n",
       " Synset('create.v.04'),\n",
       " Synset('create.v.05'),\n",
       " Synset('produce.v.02')]"
      ]
     },
     "execution_count": 4,
     "metadata": {},
     "output_type": "execute_result"
    }
   ],
   "source": [
    "x # make.v.03 is make is verb of number 3"
   ]
  },
  {
   "cell_type": "code",
   "execution_count": 6,
   "id": "0a11d613",
   "metadata": {},
   "outputs": [
    {
     "data": {
      "text/plain": [
       "{'create', 'make', 'produce'}"
      ]
     },
     "execution_count": 6,
     "metadata": {},
     "output_type": "execute_result"
    }
   ],
   "source": [
    "synonyms=set(word.lemmas()[0].name() for word in wordnet.synsets('create'))\n",
    "synonyms"
   ]
  },
  {
   "cell_type": "code",
   "execution_count": 11,
   "id": "64dac754",
   "metadata": {},
   "outputs": [
    {
     "name": "stdout",
     "output_type": "stream",
     "text": [
      "{'produce', 'create', 'make'}\n"
     ]
    }
   ],
   "source": [
    "synonyms = set()\n",
    "\n",
    "for word in wordnet.synsets('create'):\n",
    "    synonyms.add(word.lemmas()[0].name())\n",
    "print(synonyms)"
   ]
  },
  {
   "cell_type": "code",
   "execution_count": 8,
   "id": "fdbda760",
   "metadata": {},
   "outputs": [
    {
     "data": {
      "text/plain": [
       "{'ardor', 'arouse', 'burn', 'displace', 'fire', 'fuel', 'open_fire'}"
      ]
     },
     "execution_count": 8,
     "metadata": {},
     "output_type": "execute_result"
    }
   ],
   "source": [
    "synonyms=set(word.lemmas()[0].name() for word in wordnet.synsets('fire'))\n",
    "synonyms"
   ]
  },
  {
   "cell_type": "code",
   "execution_count": 13,
   "id": "cd0c83ec",
   "metadata": {},
   "outputs": [
    {
     "name": "stdout",
     "output_type": "stream",
     "text": [
      "[Lemma('make.v.03.make'), Lemma('make.v.03.create')]\n",
      "[Lemma('create.v.02.create')]\n",
      "[Lemma('create.v.03.create')]\n",
      "[Lemma('create.v.04.create')]\n",
      "[Lemma('create.v.05.create'), Lemma('create.v.05.make')]\n",
      "[Lemma('produce.v.02.produce'), Lemma('produce.v.02.make'), Lemma('produce.v.02.create')]\n"
     ]
    }
   ],
   "source": [
    "synonyms=set()\n",
    "\n",
    "for word in wordnet.synsets('create'):\n",
    "    print(word.lemmas()) #only use for taking the all the synonyms"
   ]
  },
  {
   "cell_type": "code",
   "execution_count": 16,
   "id": "3830aaac",
   "metadata": {},
   "outputs": [
    {
     "name": "stdout",
     "output_type": "stream",
     "text": [
      "make\n",
      "create\n",
      "create\n",
      "create\n",
      "create\n",
      "produce\n"
     ]
    }
   ],
   "source": [
    "synonyms=set()\n",
    "\n",
    "for word in wordnet.synsets('create'):\n",
    "    print(word.lemmas()[0].name()) # for describing only meanings of lemmas "
   ]
  },
  {
   "cell_type": "code",
   "execution_count": 18,
   "id": "6419d981",
   "metadata": {},
   "outputs": [
    {
     "name": "stdout",
     "output_type": "stream",
     "text": [
      "Word and Type: post.n.01\n",
      "Synonym: post\n",
      "The meaning of the word: the position where someone (as a guard or sentry) stands or is assigned to stand\n",
      "Example: ['a soldier manned the entrance post', 'a sentry station']\n"
     ]
    }
   ],
   "source": [
    "#for [0] i.e first meaning of post\n",
    "synset=wordnet.synsets('post')\n",
    "print('Word and Type: '+ synset[0].name())\n",
    "print('Synonym: '+synset[0].lemmas()[0].name())\n",
    "print('The meaning of the word: '+ synset[0].definition())\n",
    "print('Example: '+str(synset[0].examples()))"
   ]
  },
  {
   "cell_type": "code",
   "execution_count": 21,
   "id": "7e796f12",
   "metadata": {},
   "outputs": [
    {
     "name": "stdout",
     "output_type": "stream",
     "text": [
      "Word and Type: military_post.n.01\n",
      "Synonym: military_post\n",
      "The meaning of the word: military installation at which a body of troops is stationed\n",
      "Example: ['this military post provides an important source of income for the town nearby', \"there is an officer's club on the post\"]\n"
     ]
    }
   ],
   "source": [
    "#for [1] i.e 2nd meaning of post\n",
    "\n",
    "synset=wordnet.synsets('post')\n",
    "print('Word and Type: '+ synset[1].name())\n",
    "print('Synonym: '+synset[1].lemmas()[0].name())\n",
    "print('The meaning of the word: '+ synset[1].definition())\n",
    "print('Example: '+str(synset[1].examples()))"
   ]
  },
  {
   "cell_type": "code",
   "execution_count": 20,
   "id": "0d999582",
   "metadata": {},
   "outputs": [
    {
     "name": "stdout",
     "output_type": "stream",
     "text": [
      "Word and Type: post.n.04\n",
      "Synonym: post\n",
      "The meaning of the word: an upright consisting of a piece of timber or metal fixed firmly in an upright position\n",
      "Example: ['he set a row of posts in the ground and strung barbwire between them']\n"
     ]
    }
   ],
   "source": [
    "#for [1] i.3rd meaning of post\n",
    "\n",
    "synset=wordnet.synsets('post')\n",
    "print('Word and Type: '+ synset[3].name())\n",
    "print('Synonym: '+synset[3].lemmas()[0].name())\n",
    "print('The meaning of the word: '+ synset[3].definition())\n",
    "print('Example: '+str(synset[3].examples()))"
   ]
  },
  {
   "cell_type": "code",
   "execution_count": 24,
   "id": "80c9a48b",
   "metadata": {},
   "outputs": [
    {
     "name": "stdout",
     "output_type": "stream",
     "text": [
      "sound.n.01\n",
      "sound.n.02\n",
      "sound.n.03\n",
      "sound.n.04\n",
      "audio.n.01\n",
      "phone.n.02\n",
      "strait.n.01\n",
      "sound.n.08\n",
      "sound.v.01\n",
      "sound.v.02\n",
      "sound.v.03\n",
      "sound.v.04\n",
      "voice.v.02\n",
      "sound.v.06\n",
      "fathom.v.02\n",
      "sound.a.01\n",
      "healthy.s.04\n",
      "sound.a.03\n",
      "good.s.17\n",
      "reasoned.s.01\n",
      "legal.s.03\n",
      "sound.s.07\n",
      "heavy.s.26\n",
      "sound.s.09\n"
     ]
    }
   ],
   "source": [
    "#for reteriving all of the words nouns verbs etc\n",
    "for word in wordnet.synsets('sound'):\n",
    "    print(word.name())"
   ]
  },
  {
   "cell_type": "code",
   "execution_count": 25,
   "id": "498469a6",
   "metadata": {},
   "outputs": [
    {
     "name": "stdout",
     "output_type": "stream",
     "text": [
      "sound.v.01\n",
      "sound.v.02\n",
      "sound.v.03\n",
      "sound.v.04\n",
      "voice.v.02\n",
      "sound.v.06\n",
      "fathom.v.02\n"
     ]
    }
   ],
   "source": [
    "#for reteriving all of the words verbs only as pos='v'\n",
    "for word in wordnet.synsets('sound',pos='v'):\n",
    "    print(word.name())"
   ]
  },
  {
   "cell_type": "code",
   "execution_count": 27,
   "id": "5b8eb8a6",
   "metadata": {},
   "outputs": [
    {
     "name": "stdout",
     "output_type": "stream",
     "text": [
      "Enter the word: kite\n",
      "a bank check that has been fraudulently altered to increase its face value\n",
      "a bank check drawn on insufficient funds at another bank in order to take advantage of the float\n",
      "plaything consisting of a light frame covered with tissue paper; flown in wind at end of a string\n",
      "any of several small graceful hawks of the family Accipitridae having long pointed wings and feeding on insects and small animals\n",
      "increase the amount (of a check) fraudulently\n",
      "get credit or money by using a bad check\n",
      "soar or fly like a kite\n",
      "fly a kite\n"
     ]
    }
   ],
   "source": [
    "#Read a word from user and print all meanings of it \n",
    "word=input(\"Enter the word: \")\n",
    "\n",
    "for w in wordnet.synsets(word):\n",
    "    print(w.definition())"
   ]
  },
  {
   "cell_type": "code",
   "execution_count": 30,
   "id": "f90104f9",
   "metadata": {},
   "outputs": [
    {
     "name": "stdout",
     "output_type": "stream",
     "text": [
      "Enter the word: kite\n",
      "kite.n.01 ----> a bank check that has been fraudulently altered to increase its face value\n",
      "kite.n.02 ----> a bank check drawn on insufficient funds at another bank in order to take advantage of the float\n",
      "kite.n.03 ----> plaything consisting of a light frame covered with tissue paper; flown in wind at end of a string\n",
      "kite.n.04 ----> any of several small graceful hawks of the family Accipitridae having long pointed wings and feeding on insects and small animals\n"
     ]
    }
   ],
   "source": [
    "# Read a word from user and print all noun meaning of it\n",
    "word=input(\"Enter the word: \")\n",
    "\n",
    "for w in wordnet.synsets(word,pos='n'):\n",
    "    print(w.name(), '---->', w.definition())"
   ]
  },
  {
   "cell_type": "markdown",
   "id": "c840073a",
   "metadata": {},
   "source": [
    "## Extract specific pos from word\n"
   ]
  },
  {
   "cell_type": "code",
   "execution_count": 33,
   "id": "904e24f6",
   "metadata": {},
   "outputs": [],
   "source": [
    "verbs = set()\n",
    "nouns = set()\n",
    "adjective = set()\n",
    "\n",
    "for word in wordnet.synsets('sound', pos='n'):\n",
    "    nouns.add(word.lemmas()[0].name())\n",
    "    \n",
    "for word in wordnet.synsets('sound', pos='v'):\n",
    "    verbs.add(word.lemmas()[0].name())\n",
    "    \n",
    "for word in wordnet.synsets('sound', pos='a'):\n",
    "    adjective.add(word.lemmas()[0].name())"
   ]
  },
  {
   "cell_type": "code",
   "execution_count": 34,
   "id": "d067ef5b",
   "metadata": {},
   "outputs": [
    {
     "data": {
      "text/plain": [
       "{'audio', 'phone', 'sound', 'strait'}"
      ]
     },
     "execution_count": 34,
     "metadata": {},
     "output_type": "execute_result"
    }
   ],
   "source": [
    "nouns"
   ]
  },
  {
   "cell_type": "code",
   "execution_count": 35,
   "id": "722c9ece",
   "metadata": {},
   "outputs": [
    {
     "data": {
      "text/plain": [
       "{'fathom', 'sound', 'voice'}"
      ]
     },
     "execution_count": 35,
     "metadata": {},
     "output_type": "execute_result"
    }
   ],
   "source": [
    "verbs"
   ]
  },
  {
   "cell_type": "code",
   "execution_count": 36,
   "id": "6f844341",
   "metadata": {},
   "outputs": [
    {
     "data": {
      "text/plain": [
       "{'good', 'healthy', 'heavy', 'legal', 'reasoned', 'sound'}"
      ]
     },
     "execution_count": 36,
     "metadata": {},
     "output_type": "execute_result"
    }
   ],
   "source": [
    "adjective"
   ]
  },
  {
   "cell_type": "markdown",
   "id": "da7f7d43",
   "metadata": {},
   "source": [
    "## Find Antonyms of Word"
   ]
  },
  {
   "cell_type": "code",
   "execution_count": 49,
   "id": "c968c0d3",
   "metadata": {},
   "outputs": [
    {
     "name": "stdout",
     "output_type": "stream",
     "text": [
      "Antonyms:  {'female'}\n"
     ]
    }
   ],
   "source": [
    "ant = set()\n",
    "for synset in wordnet.synsets(\"male\"):\n",
    "    for lemma in synset.lemmas():\n",
    "        if lemma.antonyms():  # When antonyms are available, add them into the list\n",
    "            ant.add(lemma.antonyms()[0].name())\n",
    "print('Antonyms: ', ant)"
   ]
  },
  {
   "cell_type": "markdown",
   "id": "98388854",
   "metadata": {},
   "source": [
    "## extract the hypernyms"
   ]
  },
  {
   "cell_type": "code",
   "execution_count": 61,
   "id": "d94729af",
   "metadata": {},
   "outputs": [
    {
     "name": "stdout",
     "output_type": "stream",
     "text": [
      "wrath is a hyponym of fury.n.01\n",
      "wrath is a hyponym of mortal_sin.n.01\n"
     ]
    }
   ],
   "source": [
    "word=\"wrath\"\n",
    "synsets = wordnet.synsets(word)\n",
    "\n",
    "for synset in synsets:\n",
    "    \n",
    "    #get Hypernyms \n",
    "    hypernyms = synset.hypernyms()\n",
    "    \n",
    "    #Check if there are any hypernyms\n",
    "    if hypernyms:\n",
    "        for hypernym in hypernyms:\n",
    "            print(f'{word} is a hyponym of {hypernym.name()}')"
   ]
  },
  {
   "cell_type": "markdown",
   "id": "9f6e6d53",
   "metadata": {},
   "source": [
    "### Extract Meronyms"
   ]
  },
  {
   "cell_type": "code",
   "execution_count": 86,
   "id": "617bfb0f",
   "metadata": {},
   "outputs": [
    {
     "name": "stdout",
     "output_type": "stream",
     "text": [
      "wall is a meronym of arch.n.03\n",
      "wall is a meronym of capstone.n.02\n",
      "wall is a meronym of course.n.08\n",
      "wall is a meronym of doorway.n.01\n",
      "wall is a meronym of header.n.03\n",
      "wall is a meronym of paneling.n.01\n",
      "wall is a meronym of pier.n.02\n",
      "wall is a meronym of wainscot.n.01\n",
      "wall is a meronym of wall_panel.n.01\n"
     ]
    }
   ],
   "source": [
    "word='wall'\n",
    "synsets=wordnet.synsets(word)\n",
    "\n",
    "for synset in synsets:\n",
    "    \n",
    "    #get meronyms \n",
    "    meronyms = synset.part_meronyms()\n",
    "    \n",
    "    #Check if there are any meronyms\n",
    "    if meronyms:\n",
    "        for meronym in meronyms:\n",
    "            print(f'{word} is a meronym of {meronym.name()}')"
   ]
  },
  {
   "cell_type": "code",
   "execution_count": null,
   "id": "0f59e142",
   "metadata": {},
   "outputs": [],
   "source": []
  }
 ],
 "metadata": {
  "kernelspec": {
   "display_name": "Python 3 (ipykernel)",
   "language": "python",
   "name": "python3"
  },
  "language_info": {
   "codemirror_mode": {
    "name": "ipython",
    "version": 3
   },
   "file_extension": ".py",
   "mimetype": "text/x-python",
   "name": "python",
   "nbconvert_exporter": "python",
   "pygments_lexer": "ipython3",
   "version": "3.11.7"
  }
 },
 "nbformat": 4,
 "nbformat_minor": 5
}
