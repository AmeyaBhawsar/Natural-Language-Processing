{
  "nbformat": 4,
  "nbformat_minor": 0,
  "metadata": {
    "colab": {
      "provenance": [],
      "gpuType": "V28"
    },
    "kernelspec": {
      "name": "python3",
      "display_name": "Python 3"
    },
    "language_info": {
      "name": "python"
    },
    "accelerator": "TPU"
  },
  "cells": [
    {
      "cell_type": "code",
      "execution_count": 42,
      "metadata": {
        "id": "hyS72iP29D9r"
      },
      "outputs": [],
      "source": [
        "import matplotlib.pyplot as plt\n",
        "import numpy as np\n",
        "from keras.applications.resnet50 import ResNet50\n",
        "import tensorflow as tf\n",
        "from keras.models import Model, Sequential\n",
        "from keras.layers import Dense, Flatten\n",
        "from keras.utils import plot_model\n"
      ]
    },
    {
      "cell_type": "code",
      "source": [
        "resnet = ResNet50()"
      ],
      "metadata": {
        "id": "U4go8yjg9ib1"
      },
      "execution_count": 43,
      "outputs": []
    },
    {
      "cell_type": "code",
      "source": [
        "plot_model(resnet, show_layer_activations=True, show_layer_names=True, show_shapes=True)"
      ],
      "metadata": {
        "id": "eiCIGway9mn_"
      },
      "execution_count": null,
      "outputs": []
    },
    {
      "cell_type": "code",
      "source": [
        "resnet50 = ResNet50(include_top=False, weights='imagenet',input_shape=(32,32,3))"
      ],
      "metadata": {
        "id": "ZyK34Zaj9sRb"
      },
      "execution_count": null,
      "outputs": []
    },
    {
      "cell_type": "code",
      "source": [
        "plot_model(resnet50, show_layer_activations=True, show_layer_names=True, show_shapes=True)"
      ],
      "metadata": {
        "id": "jTAI-7Ma-XrE"
      },
      "execution_count": null,
      "outputs": []
    },
    {
      "cell_type": "code",
      "source": [
        "from keras.datasets import cifar10"
      ],
      "metadata": {
        "id": "NJsKQ4wW-io3"
      },
      "execution_count": null,
      "outputs": []
    },
    {
      "cell_type": "code",
      "source": [
        "(x_train, y_train), (x_test, y_test) = cifar10.load_data()"
      ],
      "metadata": {
        "id": "NR2jXyaD-6J2"
      },
      "execution_count": null,
      "outputs": []
    },
    {
      "cell_type": "code",
      "source": [
        "x_train.shape"
      ],
      "metadata": {
        "id": "_54oQh2S-82n"
      },
      "execution_count": null,
      "outputs": []
    },
    {
      "cell_type": "code",
      "source": [
        "#Flatten output layer to Resnet\n",
        "flattened = Flatten()(resnet50.output)\n",
        "#Fully Conected layer\n",
        "fc1=Dense(10,activation='relu',name='AddedDense1')(flattened)\n",
        "#Fully Conected layer\n",
        "fc2=Dense(10,activation='softmax',name='AddedDense2')(fc1)\n"
      ],
      "metadata": {
        "id": "onxIei0B_TWl"
      },
      "execution_count": null,
      "outputs": []
    },
    {
      "cell_type": "code",
      "source": [
        "resnet50.trainable = False"
      ],
      "metadata": {
        "id": "a6dQyumn_AV0"
      },
      "execution_count": null,
      "outputs": []
    },
    {
      "cell_type": "code",
      "source": [
        "model = Model(inputs=resnet50.inputs, outputs=fc2)"
      ],
      "metadata": {
        "id": "12X2SExS_QOu"
      },
      "execution_count": null,
      "outputs": []
    },
    {
      "cell_type": "code",
      "source": [
        "plot_model(resnet50, show_layer_activations=True, show_layer_names=True, show_shapes=True,show_trainable=True)"
      ],
      "metadata": {
        "id": "AqCHpMjnAzXB"
      },
      "execution_count": null,
      "outputs": []
    },
    {
      "cell_type": "code",
      "source": [
        "model.compile(optimizer='adam',loss='sparse_categorical_crossentropy',metrics=['accuracy'])"
      ],
      "metadata": {
        "id": "dIGbW-leCunY"
      },
      "execution_count": null,
      "outputs": []
    },
    {
      "cell_type": "code",
      "source": [
        "model.fit(x_train,y_train,epochs=10)"
      ],
      "metadata": {
        "id": "S8sRYjHJCjAP"
      },
      "execution_count": null,
      "outputs": []
    },
    {
      "cell_type": "code",
      "source": [],
      "metadata": {
        "id": "5ZkBpNlaCrSp"
      },
      "execution_count": null,
      "outputs": []
    }
  ]
}