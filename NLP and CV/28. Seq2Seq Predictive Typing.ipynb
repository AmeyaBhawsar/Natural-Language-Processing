{
 "cells": [
  {
   "cell_type": "code",
   "execution_count": 1,
   "id": "47ef0b21",
   "metadata": {},
   "outputs": [
    {
     "name": "stdout",
     "output_type": "stream",
     "text": [
      "WARNING:tensorflow:From C:\\Users\\Administrator.DAI-PC2\\AppData\\Roaming\\Python\\Python311\\site-packages\\keras\\src\\losses.py:2976: The name tf.losses.sparse_softmax_cross_entropy is deprecated. Please use tf.compat.v1.losses.sparse_softmax_cross_entropy instead.\n",
      "\n"
     ]
    }
   ],
   "source": [
    "import numpy as np\n",
    "import pandas as pd\n",
    "from keras.preprocessing.text import Tokenizer\n",
    "from keras.preprocessing.sequence import pad_sequences\n",
    "from keras.models import Sequential\n",
    "from keras.layers import Embedding, LSTM, Dense"
   ]
  },
  {
   "cell_type": "code",
   "execution_count": 2,
   "id": "ca7aecdf",
   "metadata": {},
   "outputs": [],
   "source": [
    "#Sample text data\n",
    "\n",
    "text_data = [\"hello how are you\",\n",
    "            \"hello how have you been\",\n",
    "            \"hi there\",\n",
    "            \"good morning\",\n",
    "            \"good night\",\n",
    "            \"have a nice day\",\n",
    "            \"how is it going\",\n",
    "            \"how have you been\",\n",
    "            \"nice to meet you\"\n",
    "            \"thank you\"]\n"
   ]
  },
  {
   "cell_type": "code",
   "execution_count": 3,
   "id": "bc9de064",
   "metadata": {},
   "outputs": [],
   "source": [
    "tokenizer = Tokenizer()\n",
    "tokenizer.fit_on_texts(text_data)\n",
    "total_words = len(tokenizer.word_index)+1"
   ]
  },
  {
   "cell_type": "code",
   "execution_count": 4,
   "id": "24a78a3f",
   "metadata": {},
   "outputs": [
    {
     "data": {
      "text/plain": [
       "21"
      ]
     },
     "execution_count": 4,
     "metadata": {},
     "output_type": "execute_result"
    }
   ],
   "source": [
    "total_words"
   ]
  },
  {
   "cell_type": "code",
   "execution_count": 5,
   "id": "aba850df",
   "metadata": {},
   "outputs": [
    {
     "data": {
      "text/plain": [
       "{'how': 1,\n",
       " 'you': 2,\n",
       " 'have': 3,\n",
       " 'hello': 4,\n",
       " 'been': 5,\n",
       " 'good': 6,\n",
       " 'nice': 7,\n",
       " 'are': 8,\n",
       " 'hi': 9,\n",
       " 'there': 10,\n",
       " 'morning': 11,\n",
       " 'night': 12,\n",
       " 'a': 13,\n",
       " 'day': 14,\n",
       " 'is': 15,\n",
       " 'it': 16,\n",
       " 'going': 17,\n",
       " 'to': 18,\n",
       " 'meet': 19,\n",
       " 'youthank': 20}"
      ]
     },
     "execution_count": 5,
     "metadata": {},
     "output_type": "execute_result"
    }
   ],
   "source": [
    "tokenizer.word_index"
   ]
  },
  {
   "cell_type": "code",
   "execution_count": 6,
   "id": "6733c885",
   "metadata": {},
   "outputs": [],
   "source": [
    "#Prepare the input sequence\n",
    "\n",
    "input_sequences = []\n",
    "for line in text_data:\n",
    "    token_list = tokenizer.texts_to_sequences([line])[0]\n",
    "    for i in range(1, len(token_list)):\n",
    "        n_gram_sequence = token_list[:i+1]\n",
    "        input_sequences.append(n_gram_sequence)"
   ]
  },
  {
   "cell_type": "code",
   "execution_count": 7,
   "id": "44e8589d",
   "metadata": {},
   "outputs": [
    {
     "data": {
      "text/plain": [
       "[[4, 1],\n",
       " [4, 1, 8],\n",
       " [4, 1, 8, 2],\n",
       " [4, 1],\n",
       " [4, 1, 3],\n",
       " [4, 1, 3, 2],\n",
       " [4, 1, 3, 2, 5],\n",
       " [9, 10],\n",
       " [6, 11],\n",
       " [6, 12],\n",
       " [3, 13],\n",
       " [3, 13, 7],\n",
       " [3, 13, 7, 14],\n",
       " [1, 15],\n",
       " [1, 15, 16],\n",
       " [1, 15, 16, 17],\n",
       " [1, 3],\n",
       " [1, 3, 2],\n",
       " [1, 3, 2, 5],\n",
       " [7, 18],\n",
       " [7, 18, 19],\n",
       " [7, 18, 19, 20],\n",
       " [7, 18, 19, 20, 2]]"
      ]
     },
     "execution_count": 7,
     "metadata": {},
     "output_type": "execute_result"
    }
   ],
   "source": [
    "input_sequences"
   ]
  },
  {
   "cell_type": "code",
   "execution_count": 8,
   "id": "b878576e",
   "metadata": {},
   "outputs": [],
   "source": [
    "#### Pad Sequences\n",
    "max_sequence_len = max([len(x) for x in input_sequences])\n",
    "input_sequences = pad_sequences(input_sequences, maxlen=max_sequence_len, padding='pre')"
   ]
  },
  {
   "cell_type": "code",
   "execution_count": 9,
   "id": "f0c469a1",
   "metadata": {},
   "outputs": [
    {
     "data": {
      "text/plain": [
       "array([[ 0,  0,  0,  4,  1],\n",
       "       [ 0,  0,  4,  1,  8],\n",
       "       [ 0,  4,  1,  8,  2],\n",
       "       [ 0,  0,  0,  4,  1],\n",
       "       [ 0,  0,  4,  1,  3],\n",
       "       [ 0,  4,  1,  3,  2],\n",
       "       [ 4,  1,  3,  2,  5],\n",
       "       [ 0,  0,  0,  9, 10],\n",
       "       [ 0,  0,  0,  6, 11],\n",
       "       [ 0,  0,  0,  6, 12],\n",
       "       [ 0,  0,  0,  3, 13],\n",
       "       [ 0,  0,  3, 13,  7],\n",
       "       [ 0,  3, 13,  7, 14],\n",
       "       [ 0,  0,  0,  1, 15],\n",
       "       [ 0,  0,  1, 15, 16],\n",
       "       [ 0,  1, 15, 16, 17],\n",
       "       [ 0,  0,  0,  1,  3],\n",
       "       [ 0,  0,  1,  3,  2],\n",
       "       [ 0,  1,  3,  2,  5],\n",
       "       [ 0,  0,  0,  7, 18],\n",
       "       [ 0,  0,  7, 18, 19],\n",
       "       [ 0,  7, 18, 19, 20],\n",
       "       [ 7, 18, 19, 20,  2]])"
      ]
     },
     "execution_count": 9,
     "metadata": {},
     "output_type": "execute_result"
    }
   ],
   "source": [
    "input_sequences"
   ]
  },
  {
   "cell_type": "code",
   "execution_count": 10,
   "id": "02a1cc51",
   "metadata": {},
   "outputs": [
    {
     "data": {
      "text/plain": [
       "(23, 5)"
      ]
     },
     "execution_count": 10,
     "metadata": {},
     "output_type": "execute_result"
    }
   ],
   "source": [
    "input_sequences.shape"
   ]
  },
  {
   "cell_type": "code",
   "execution_count": 11,
   "id": "d37c28a5",
   "metadata": {},
   "outputs": [],
   "source": [
    "## Split into features and labels\n",
    "import keras\n",
    "input_sequences = np.array(input_sequences)\n",
    "X, y = input_sequences[:,:-1], input_sequences[:,-1]\n",
    "y = keras.utils.to_categorical(y, num_classes = total_words)"
   ]
  },
  {
   "cell_type": "code",
   "execution_count": 12,
   "id": "0d996cc1",
   "metadata": {},
   "outputs": [
    {
     "data": {
      "text/plain": [
       "array([ 1,  8,  2,  1,  3,  2,  5, 10, 11, 12, 13,  7, 14, 15, 16, 17,  3,\n",
       "        2,  5, 18, 19, 20,  2])"
      ]
     },
     "execution_count": 12,
     "metadata": {},
     "output_type": "execute_result"
    }
   ],
   "source": [
    "input_sequences[:,-1]"
   ]
  },
  {
   "cell_type": "code",
   "execution_count": 13,
   "id": "96f1c938",
   "metadata": {},
   "outputs": [
    {
     "data": {
      "text/plain": [
       "array([[0., 1., 0., 0., 0., 0., 0., 0., 0., 0., 0., 0., 0., 0., 0., 0.,\n",
       "        0., 0., 0., 0., 0.],\n",
       "       [0., 0., 0., 0., 0., 0., 0., 0., 1., 0., 0., 0., 0., 0., 0., 0.,\n",
       "        0., 0., 0., 0., 0.],\n",
       "       [0., 0., 1., 0., 0., 0., 0., 0., 0., 0., 0., 0., 0., 0., 0., 0.,\n",
       "        0., 0., 0., 0., 0.],\n",
       "       [0., 1., 0., 0., 0., 0., 0., 0., 0., 0., 0., 0., 0., 0., 0., 0.,\n",
       "        0., 0., 0., 0., 0.],\n",
       "       [0., 0., 0., 1., 0., 0., 0., 0., 0., 0., 0., 0., 0., 0., 0., 0.,\n",
       "        0., 0., 0., 0., 0.],\n",
       "       [0., 0., 1., 0., 0., 0., 0., 0., 0., 0., 0., 0., 0., 0., 0., 0.,\n",
       "        0., 0., 0., 0., 0.],\n",
       "       [0., 0., 0., 0., 0., 1., 0., 0., 0., 0., 0., 0., 0., 0., 0., 0.,\n",
       "        0., 0., 0., 0., 0.],\n",
       "       [0., 0., 0., 0., 0., 0., 0., 0., 0., 0., 1., 0., 0., 0., 0., 0.,\n",
       "        0., 0., 0., 0., 0.],\n",
       "       [0., 0., 0., 0., 0., 0., 0., 0., 0., 0., 0., 1., 0., 0., 0., 0.,\n",
       "        0., 0., 0., 0., 0.],\n",
       "       [0., 0., 0., 0., 0., 0., 0., 0., 0., 0., 0., 0., 1., 0., 0., 0.,\n",
       "        0., 0., 0., 0., 0.],\n",
       "       [0., 0., 0., 0., 0., 0., 0., 0., 0., 0., 0., 0., 0., 1., 0., 0.,\n",
       "        0., 0., 0., 0., 0.],\n",
       "       [0., 0., 0., 0., 0., 0., 0., 1., 0., 0., 0., 0., 0., 0., 0., 0.,\n",
       "        0., 0., 0., 0., 0.],\n",
       "       [0., 0., 0., 0., 0., 0., 0., 0., 0., 0., 0., 0., 0., 0., 1., 0.,\n",
       "        0., 0., 0., 0., 0.],\n",
       "       [0., 0., 0., 0., 0., 0., 0., 0., 0., 0., 0., 0., 0., 0., 0., 1.,\n",
       "        0., 0., 0., 0., 0.],\n",
       "       [0., 0., 0., 0., 0., 0., 0., 0., 0., 0., 0., 0., 0., 0., 0., 0.,\n",
       "        1., 0., 0., 0., 0.],\n",
       "       [0., 0., 0., 0., 0., 0., 0., 0., 0., 0., 0., 0., 0., 0., 0., 0.,\n",
       "        0., 1., 0., 0., 0.],\n",
       "       [0., 0., 0., 1., 0., 0., 0., 0., 0., 0., 0., 0., 0., 0., 0., 0.,\n",
       "        0., 0., 0., 0., 0.],\n",
       "       [0., 0., 1., 0., 0., 0., 0., 0., 0., 0., 0., 0., 0., 0., 0., 0.,\n",
       "        0., 0., 0., 0., 0.],\n",
       "       [0., 0., 0., 0., 0., 1., 0., 0., 0., 0., 0., 0., 0., 0., 0., 0.,\n",
       "        0., 0., 0., 0., 0.],\n",
       "       [0., 0., 0., 0., 0., 0., 0., 0., 0., 0., 0., 0., 0., 0., 0., 0.,\n",
       "        0., 0., 1., 0., 0.],\n",
       "       [0., 0., 0., 0., 0., 0., 0., 0., 0., 0., 0., 0., 0., 0., 0., 0.,\n",
       "        0., 0., 0., 1., 0.],\n",
       "       [0., 0., 0., 0., 0., 0., 0., 0., 0., 0., 0., 0., 0., 0., 0., 0.,\n",
       "        0., 0., 0., 0., 1.],\n",
       "       [0., 0., 1., 0., 0., 0., 0., 0., 0., 0., 0., 0., 0., 0., 0., 0.,\n",
       "        0., 0., 0., 0., 0.]], dtype=float32)"
      ]
     },
     "execution_count": 13,
     "metadata": {},
     "output_type": "execute_result"
    }
   ],
   "source": [
    "y"
   ]
  },
  {
   "cell_type": "code",
   "execution_count": 14,
   "id": "f1513ef0",
   "metadata": {},
   "outputs": [
    {
     "name": "stdout",
     "output_type": "stream",
     "text": [
      "WARNING:tensorflow:From C:\\Users\\Administrator.DAI-PC2\\AppData\\Roaming\\Python\\Python311\\site-packages\\keras\\src\\backend.py:873: The name tf.get_default_graph is deprecated. Please use tf.compat.v1.get_default_graph instead.\n",
      "\n"
     ]
    }
   ],
   "source": [
    "## Build the RNN model\n",
    "model = Sequential()\n",
    "model.add(Embedding(total_words, 10, input_length=max_sequence_len-1))\n",
    "model.add(LSTM(150, return_sequences=True))\n",
    "model.add(LSTM(100))\n",
    "model.add(Dense(total_words, activation=\"softmax\"))"
   ]
  },
  {
   "cell_type": "code",
   "execution_count": 15,
   "id": "07467b74",
   "metadata": {},
   "outputs": [
    {
     "name": "stdout",
     "output_type": "stream",
     "text": [
      "Model: \"sequential\"\n",
      "_________________________________________________________________\n",
      " Layer (type)                Output Shape              Param #   \n",
      "=================================================================\n",
      " embedding (Embedding)       (None, 4, 10)             210       \n",
      "                                                                 \n",
      " lstm (LSTM)                 (None, 4, 150)            96600     \n",
      "                                                                 \n",
      " lstm_1 (LSTM)               (None, 100)               100400    \n",
      "                                                                 \n",
      " dense (Dense)               (None, 21)                2121      \n",
      "                                                                 \n",
      "=================================================================\n",
      "Total params: 199331 (778.64 KB)\n",
      "Trainable params: 199331 (778.64 KB)\n",
      "Non-trainable params: 0 (0.00 Byte)\n",
      "_________________________________________________________________\n"
     ]
    }
   ],
   "source": [
    "model.summary()"
   ]
  },
  {
   "cell_type": "markdown",
   "id": "3c770324",
   "metadata": {},
   "source": [
    "### Compile the model"
   ]
  },
  {
   "cell_type": "code",
   "execution_count": 16,
   "id": "64fd21f9",
   "metadata": {},
   "outputs": [
    {
     "name": "stdout",
     "output_type": "stream",
     "text": [
      "WARNING:tensorflow:From C:\\Users\\Administrator.DAI-PC2\\AppData\\Roaming\\Python\\Python311\\site-packages\\keras\\src\\optimizers\\__init__.py:309: The name tf.train.Optimizer is deprecated. Please use tf.compat.v1.train.Optimizer instead.\n",
      "\n"
     ]
    }
   ],
   "source": [
    "model.compile(loss = 'categorical_crossentropy', optimizer = 'adam', metrics = ['accuracy'])"
   ]
  },
  {
   "cell_type": "code",
   "execution_count": 17,
   "id": "8f9ae610",
   "metadata": {},
   "outputs": [
    {
     "name": "stdout",
     "output_type": "stream",
     "text": [
      "Epoch 1/200\n",
      "WARNING:tensorflow:From C:\\Users\\Administrator.DAI-PC2\\AppData\\Roaming\\Python\\Python311\\site-packages\\keras\\src\\utils\\tf_utils.py:492: The name tf.ragged.RaggedTensorValue is deprecated. Please use tf.compat.v1.ragged.RaggedTensorValue instead.\n",
      "\n",
      "WARNING:tensorflow:From C:\\Users\\Administrator.DAI-PC2\\AppData\\Roaming\\Python\\Python311\\site-packages\\keras\\src\\engine\\base_layer_utils.py:384: The name tf.executing_eagerly_outside_functions is deprecated. Please use tf.compat.v1.executing_eagerly_outside_functions instead.\n",
      "\n",
      "23/23 [==============================] - 4s 9ms/step - loss: 3.0484 - accuracy: 0.0000e+00\n",
      "Epoch 2/200\n",
      "23/23 [==============================] - 0s 9ms/step - loss: 3.0200 - accuracy: 0.1739\n",
      "Epoch 3/200\n",
      "23/23 [==============================] - 0s 9ms/step - loss: 2.9738 - accuracy: 0.1739\n",
      "Epoch 4/200\n",
      "23/23 [==============================] - 0s 9ms/step - loss: 2.8488 - accuracy: 0.1739\n",
      "Epoch 5/200\n",
      "23/23 [==============================] - 0s 9ms/step - loss: 2.7912 - accuracy: 0.1739\n",
      "Epoch 6/200\n",
      "23/23 [==============================] - 0s 9ms/step - loss: 2.7403 - accuracy: 0.1739\n",
      "Epoch 7/200\n",
      "23/23 [==============================] - 0s 9ms/step - loss: 2.6662 - accuracy: 0.1739\n",
      "Epoch 8/200\n",
      "23/23 [==============================] - 0s 9ms/step - loss: 2.5762 - accuracy: 0.1739\n",
      "Epoch 9/200\n",
      "23/23 [==============================] - 0s 8ms/step - loss: 2.5042 - accuracy: 0.1739\n",
      "Epoch 10/200\n",
      "23/23 [==============================] - 0s 8ms/step - loss: 2.4167 - accuracy: 0.1739\n",
      "Epoch 11/200\n",
      "23/23 [==============================] - 0s 9ms/step - loss: 2.3527 - accuracy: 0.1739\n",
      "Epoch 12/200\n",
      "23/23 [==============================] - 0s 8ms/step - loss: 2.2704 - accuracy: 0.2609\n",
      "Epoch 13/200\n",
      "23/23 [==============================] - 0s 9ms/step - loss: 2.1749 - accuracy: 0.3043\n",
      "Epoch 14/200\n",
      "23/23 [==============================] - 0s 9ms/step - loss: 2.0747 - accuracy: 0.2609\n",
      "Epoch 15/200\n",
      "23/23 [==============================] - 0s 8ms/step - loss: 2.0481 - accuracy: 0.2174\n",
      "Epoch 16/200\n",
      "23/23 [==============================] - 0s 8ms/step - loss: 1.8617 - accuracy: 0.2609\n",
      "Epoch 17/200\n",
      "23/23 [==============================] - 0s 8ms/step - loss: 1.8329 - accuracy: 0.4348\n",
      "Epoch 18/200\n",
      "23/23 [==============================] - 0s 9ms/step - loss: 1.6645 - accuracy: 0.3913\n",
      "Epoch 19/200\n",
      "23/23 [==============================] - 0s 8ms/step - loss: 1.5811 - accuracy: 0.4348\n",
      "Epoch 20/200\n",
      "23/23 [==============================] - 0s 9ms/step - loss: 1.5006 - accuracy: 0.4783\n",
      "Epoch 21/200\n",
      "23/23 [==============================] - 0s 9ms/step - loss: 1.3550 - accuracy: 0.4783\n",
      "Epoch 22/200\n",
      "23/23 [==============================] - 0s 8ms/step - loss: 1.2829 - accuracy: 0.4783\n",
      "Epoch 23/200\n",
      "23/23 [==============================] - 0s 9ms/step - loss: 1.2238 - accuracy: 0.5652\n",
      "Epoch 24/200\n",
      "23/23 [==============================] - 0s 8ms/step - loss: 1.0556 - accuracy: 0.5217\n",
      "Epoch 25/200\n",
      "23/23 [==============================] - 0s 8ms/step - loss: 0.9335 - accuracy: 0.5652\n",
      "Epoch 26/200\n",
      "23/23 [==============================] - 0s 9ms/step - loss: 0.8400 - accuracy: 0.6957\n",
      "Epoch 27/200\n",
      "23/23 [==============================] - 0s 7ms/step - loss: 0.8650 - accuracy: 0.6522\n",
      "Epoch 28/200\n",
      "23/23 [==============================] - 0s 8ms/step - loss: 0.7191 - accuracy: 0.6957\n",
      "Epoch 29/200\n",
      "23/23 [==============================] - 0s 8ms/step - loss: 0.7013 - accuracy: 0.6957\n",
      "Epoch 30/200\n",
      "23/23 [==============================] - 0s 7ms/step - loss: 0.6505 - accuracy: 0.7391\n",
      "Epoch 31/200\n",
      "23/23 [==============================] - 0s 7ms/step - loss: 0.6276 - accuracy: 0.6957\n",
      "Epoch 32/200\n",
      "23/23 [==============================] - 0s 8ms/step - loss: 0.5659 - accuracy: 0.7826\n",
      "Epoch 33/200\n",
      "23/23 [==============================] - 0s 8ms/step - loss: 0.5240 - accuracy: 0.7391\n",
      "Epoch 34/200\n",
      "23/23 [==============================] - 0s 8ms/step - loss: 0.5322 - accuracy: 0.7391\n",
      "Epoch 35/200\n",
      "23/23 [==============================] - 0s 8ms/step - loss: 0.4701 - accuracy: 0.7826\n",
      "Epoch 36/200\n",
      "23/23 [==============================] - 0s 8ms/step - loss: 0.4918 - accuracy: 0.8261\n",
      "Epoch 37/200\n",
      "23/23 [==============================] - 0s 7ms/step - loss: 0.4680 - accuracy: 0.6522\n",
      "Epoch 38/200\n",
      "23/23 [==============================] - 0s 7ms/step - loss: 0.4477 - accuracy: 0.7391\n",
      "Epoch 39/200\n",
      "23/23 [==============================] - 0s 9ms/step - loss: 0.4313 - accuracy: 0.7391\n",
      "Epoch 40/200\n",
      "23/23 [==============================] - 0s 8ms/step - loss: 0.4010 - accuracy: 0.7826\n",
      "Epoch 41/200\n",
      "23/23 [==============================] - 0s 8ms/step - loss: 0.4197 - accuracy: 0.8261\n",
      "Epoch 42/200\n",
      "23/23 [==============================] - 0s 8ms/step - loss: 0.4161 - accuracy: 0.7391\n",
      "Epoch 43/200\n",
      "23/23 [==============================] - 0s 7ms/step - loss: 0.3625 - accuracy: 0.8261\n",
      "Epoch 44/200\n",
      "23/23 [==============================] - 0s 7ms/step - loss: 0.3608 - accuracy: 0.8261\n",
      "Epoch 45/200\n",
      "23/23 [==============================] - 0s 8ms/step - loss: 0.3698 - accuracy: 0.7826\n",
      "Epoch 46/200\n",
      "23/23 [==============================] - 0s 8ms/step - loss: 0.2999 - accuracy: 0.8696\n",
      "Epoch 47/200\n",
      "23/23 [==============================] - 0s 8ms/step - loss: 0.3057 - accuracy: 0.8261\n",
      "Epoch 48/200\n",
      "23/23 [==============================] - 0s 10ms/step - loss: 0.3045 - accuracy: 0.8261\n",
      "Epoch 49/200\n",
      "23/23 [==============================] - 0s 8ms/step - loss: 0.2866 - accuracy: 0.8261\n",
      "Epoch 50/200\n",
      "23/23 [==============================] - 0s 8ms/step - loss: 0.2847 - accuracy: 0.7826\n",
      "Epoch 51/200\n",
      "23/23 [==============================] - 0s 8ms/step - loss: 0.2870 - accuracy: 0.8696\n",
      "Epoch 52/200\n",
      "23/23 [==============================] - 0s 9ms/step - loss: 0.2638 - accuracy: 0.8261\n",
      "Epoch 53/200\n",
      "23/23 [==============================] - 0s 9ms/step - loss: 0.2716 - accuracy: 0.8696\n",
      "Epoch 54/200\n",
      "23/23 [==============================] - 0s 8ms/step - loss: 0.2679 - accuracy: 0.8261\n",
      "Epoch 55/200\n",
      "23/23 [==============================] - 0s 9ms/step - loss: 0.2680 - accuracy: 0.8696\n",
      "Epoch 56/200\n",
      "23/23 [==============================] - 0s 8ms/step - loss: 0.2364 - accuracy: 0.8261\n",
      "Epoch 57/200\n",
      "23/23 [==============================] - 0s 9ms/step - loss: 0.2638 - accuracy: 0.8261\n",
      "Epoch 58/200\n",
      "23/23 [==============================] - 0s 9ms/step - loss: 0.2499 - accuracy: 0.8261\n",
      "Epoch 59/200\n",
      "23/23 [==============================] - 0s 8ms/step - loss: 0.2470 - accuracy: 0.8261\n",
      "Epoch 60/200\n",
      "23/23 [==============================] - 0s 9ms/step - loss: 0.2548 - accuracy: 0.7826\n",
      "Epoch 61/200\n",
      "23/23 [==============================] - 0s 9ms/step - loss: 0.2373 - accuracy: 0.8261\n",
      "Epoch 62/200\n",
      "23/23 [==============================] - 0s 9ms/step - loss: 0.2423 - accuracy: 0.8696\n",
      "Epoch 63/200\n",
      "23/23 [==============================] - 0s 7ms/step - loss: 0.2290 - accuracy: 0.7826\n",
      "Epoch 64/200\n",
      "23/23 [==============================] - 0s 9ms/step - loss: 0.2349 - accuracy: 0.7826\n",
      "Epoch 65/200\n",
      "23/23 [==============================] - 0s 8ms/step - loss: 0.2323 - accuracy: 0.8261\n",
      "Epoch 66/200\n",
      "23/23 [==============================] - 0s 9ms/step - loss: 0.2303 - accuracy: 0.7391\n",
      "Epoch 67/200\n",
      "23/23 [==============================] - 0s 9ms/step - loss: 0.2323 - accuracy: 0.7826\n",
      "Epoch 68/200\n",
      "23/23 [==============================] - 0s 8ms/step - loss: 0.2280 - accuracy: 0.8261\n",
      "Epoch 69/200\n",
      "23/23 [==============================] - 0s 10ms/step - loss: 0.2300 - accuracy: 0.8261\n",
      "Epoch 70/200\n",
      "23/23 [==============================] - 0s 9ms/step - loss: 0.2317 - accuracy: 0.8696\n",
      "Epoch 71/200\n",
      "23/23 [==============================] - 0s 9ms/step - loss: 0.2235 - accuracy: 0.7826\n",
      "Epoch 72/200\n",
      "23/23 [==============================] - 0s 7ms/step - loss: 0.2239 - accuracy: 0.7826\n",
      "Epoch 73/200\n",
      "23/23 [==============================] - 0s 9ms/step - loss: 0.2290 - accuracy: 0.8261\n",
      "Epoch 74/200\n",
      "23/23 [==============================] - 0s 8ms/step - loss: 0.2263 - accuracy: 0.7826\n",
      "Epoch 75/200\n",
      "23/23 [==============================] - 0s 8ms/step - loss: 0.2324 - accuracy: 0.7391\n",
      "Epoch 76/200\n",
      "23/23 [==============================] - 0s 8ms/step - loss: 0.2262 - accuracy: 0.7826\n",
      "Epoch 77/200\n"
     ]
    },
    {
     "name": "stdout",
     "output_type": "stream",
     "text": [
      "23/23 [==============================] - 0s 8ms/step - loss: 0.2273 - accuracy: 0.7826\n",
      "Epoch 78/200\n",
      "23/23 [==============================] - 0s 9ms/step - loss: 0.2231 - accuracy: 0.7391\n",
      "Epoch 79/200\n",
      "23/23 [==============================] - 0s 10ms/step - loss: 0.2185 - accuracy: 0.8261\n",
      "Epoch 80/200\n",
      "23/23 [==============================] - 0s 9ms/step - loss: 0.2225 - accuracy: 0.7826\n",
      "Epoch 81/200\n",
      "23/23 [==============================] - 0s 10ms/step - loss: 0.2181 - accuracy: 0.7826\n",
      "Epoch 82/200\n",
      "23/23 [==============================] - 0s 9ms/step - loss: 0.2182 - accuracy: 0.7826\n",
      "Epoch 83/200\n",
      "23/23 [==============================] - 0s 9ms/step - loss: 0.2120 - accuracy: 0.7826\n",
      "Epoch 84/200\n",
      "23/23 [==============================] - 0s 8ms/step - loss: 0.2147 - accuracy: 0.7826\n",
      "Epoch 85/200\n",
      "23/23 [==============================] - 0s 9ms/step - loss: 0.2147 - accuracy: 0.8696\n",
      "Epoch 86/200\n",
      "23/23 [==============================] - 0s 9ms/step - loss: 0.2108 - accuracy: 0.8261\n",
      "Epoch 87/200\n",
      "23/23 [==============================] - 0s 9ms/step - loss: 0.2142 - accuracy: 0.7826\n",
      "Epoch 88/200\n",
      "23/23 [==============================] - 0s 9ms/step - loss: 0.2248 - accuracy: 0.8261\n",
      "Epoch 89/200\n",
      "23/23 [==============================] - 0s 10ms/step - loss: 0.2048 - accuracy: 0.8261\n",
      "Epoch 90/200\n",
      "23/23 [==============================] - 0s 8ms/step - loss: 0.2150 - accuracy: 0.7391\n",
      "Epoch 91/200\n",
      "23/23 [==============================] - 0s 9ms/step - loss: 0.2143 - accuracy: 0.8261\n",
      "Epoch 92/200\n",
      "23/23 [==============================] - 0s 9ms/step - loss: 0.2157 - accuracy: 0.8261\n",
      "Epoch 93/200\n",
      "23/23 [==============================] - 0s 10ms/step - loss: 0.2107 - accuracy: 0.7826\n",
      "Epoch 94/200\n",
      "23/23 [==============================] - 0s 9ms/step - loss: 0.2071 - accuracy: 0.8696\n",
      "Epoch 95/200\n",
      "23/23 [==============================] - 0s 9ms/step - loss: 0.2054 - accuracy: 0.8696\n",
      "Epoch 96/200\n",
      "23/23 [==============================] - 0s 10ms/step - loss: 0.2097 - accuracy: 0.7826\n",
      "Epoch 97/200\n",
      "23/23 [==============================] - 0s 8ms/step - loss: 0.2069 - accuracy: 0.7391\n",
      "Epoch 98/200\n",
      "23/23 [==============================] - 0s 9ms/step - loss: 0.2083 - accuracy: 0.7826\n",
      "Epoch 99/200\n",
      "23/23 [==============================] - 0s 9ms/step - loss: 0.2110 - accuracy: 0.7826\n",
      "Epoch 100/200\n",
      "23/23 [==============================] - 0s 8ms/step - loss: 0.2042 - accuracy: 0.8261\n",
      "Epoch 101/200\n",
      "23/23 [==============================] - 0s 9ms/step - loss: 0.2114 - accuracy: 0.7826\n",
      "Epoch 102/200\n",
      "23/23 [==============================] - 0s 9ms/step - loss: 0.2010 - accuracy: 0.8261\n",
      "Epoch 103/200\n",
      "23/23 [==============================] - 0s 9ms/step - loss: 0.2005 - accuracy: 0.8261\n",
      "Epoch 104/200\n",
      "23/23 [==============================] - 0s 9ms/step - loss: 0.2058 - accuracy: 0.7826\n",
      "Epoch 105/200\n",
      "23/23 [==============================] - 0s 9ms/step - loss: 0.2049 - accuracy: 0.8261\n",
      "Epoch 106/200\n",
      "23/23 [==============================] - 0s 8ms/step - loss: 0.2141 - accuracy: 0.7826\n",
      "Epoch 107/200\n",
      "23/23 [==============================] - 0s 8ms/step - loss: 0.2017 - accuracy: 0.8261\n",
      "Epoch 108/200\n",
      "23/23 [==============================] - 0s 8ms/step - loss: 0.1942 - accuracy: 0.8696\n",
      "Epoch 109/200\n",
      "23/23 [==============================] - 0s 9ms/step - loss: 0.2091 - accuracy: 0.8261\n",
      "Epoch 110/200\n",
      "23/23 [==============================] - 0s 8ms/step - loss: 0.2106 - accuracy: 0.7826\n",
      "Epoch 111/200\n",
      "23/23 [==============================] - 0s 8ms/step - loss: 0.2022 - accuracy: 0.7826\n",
      "Epoch 112/200\n",
      "23/23 [==============================] - 0s 8ms/step - loss: 0.2014 - accuracy: 0.8696\n",
      "Epoch 113/200\n",
      "23/23 [==============================] - 0s 8ms/step - loss: 0.2103 - accuracy: 0.8261\n",
      "Epoch 114/200\n",
      "23/23 [==============================] - 0s 8ms/step - loss: 0.1984 - accuracy: 0.8261\n",
      "Epoch 115/200\n",
      "23/23 [==============================] - 0s 7ms/step - loss: 0.2136 - accuracy: 0.8261\n",
      "Epoch 116/200\n",
      "23/23 [==============================] - 0s 8ms/step - loss: 0.2088 - accuracy: 0.8261\n",
      "Epoch 117/200\n",
      "23/23 [==============================] - 0s 9ms/step - loss: 0.2059 - accuracy: 0.7826\n",
      "Epoch 118/200\n",
      "23/23 [==============================] - 0s 9ms/step - loss: 0.2059 - accuracy: 0.8261\n",
      "Epoch 119/200\n",
      "23/23 [==============================] - 0s 9ms/step - loss: 0.1985 - accuracy: 0.7826\n",
      "Epoch 120/200\n",
      "23/23 [==============================] - 0s 9ms/step - loss: 0.2071 - accuracy: 0.7826\n",
      "Epoch 121/200\n",
      "23/23 [==============================] - 0s 9ms/step - loss: 0.2024 - accuracy: 0.7826\n",
      "Epoch 122/200\n",
      "23/23 [==============================] - 0s 9ms/step - loss: 0.2047 - accuracy: 0.8696\n",
      "Epoch 123/200\n",
      "23/23 [==============================] - 0s 9ms/step - loss: 0.2059 - accuracy: 0.7391\n",
      "Epoch 124/200\n",
      "23/23 [==============================] - 0s 7ms/step - loss: 0.1979 - accuracy: 0.7826\n",
      "Epoch 125/200\n",
      "23/23 [==============================] - 0s 8ms/step - loss: 0.2086 - accuracy: 0.8261\n",
      "Epoch 126/200\n",
      "23/23 [==============================] - 0s 9ms/step - loss: 0.2223 - accuracy: 0.7826\n",
      "Epoch 127/200\n",
      "23/23 [==============================] - 0s 9ms/step - loss: 0.2181 - accuracy: 0.7391\n",
      "Epoch 128/200\n",
      "23/23 [==============================] - 0s 8ms/step - loss: 0.1954 - accuracy: 0.8696\n",
      "Epoch 129/200\n",
      "23/23 [==============================] - 0s 8ms/step - loss: 0.1994 - accuracy: 0.7826\n",
      "Epoch 130/200\n",
      "23/23 [==============================] - 0s 10ms/step - loss: 0.2050 - accuracy: 0.8696\n",
      "Epoch 131/200\n",
      "23/23 [==============================] - 0s 8ms/step - loss: 0.2014 - accuracy: 0.8261\n",
      "Epoch 132/200\n",
      "23/23 [==============================] - 0s 9ms/step - loss: 0.1988 - accuracy: 0.8261\n",
      "Epoch 133/200\n",
      "23/23 [==============================] - 0s 9ms/step - loss: 0.2030 - accuracy: 0.7826\n",
      "Epoch 134/200\n",
      "23/23 [==============================] - 0s 7ms/step - loss: 0.2063 - accuracy: 0.8696\n",
      "Epoch 135/200\n",
      "23/23 [==============================] - 0s 9ms/step - loss: 0.2033 - accuracy: 0.7826\n",
      "Epoch 136/200\n",
      "23/23 [==============================] - 0s 8ms/step - loss: 0.1967 - accuracy: 0.8261\n",
      "Epoch 137/200\n",
      "23/23 [==============================] - 0s 9ms/step - loss: 0.1944 - accuracy: 0.8261\n",
      "Epoch 138/200\n",
      "23/23 [==============================] - 0s 8ms/step - loss: 0.2077 - accuracy: 0.8696\n",
      "Epoch 139/200\n",
      "23/23 [==============================] - 0s 9ms/step - loss: 0.2003 - accuracy: 0.7826\n",
      "Epoch 140/200\n",
      "23/23 [==============================] - 0s 11ms/step - loss: 0.2014 - accuracy: 0.8261\n",
      "Epoch 141/200\n",
      "23/23 [==============================] - 0s 8ms/step - loss: 0.2046 - accuracy: 0.8261\n",
      "Epoch 142/200\n",
      "23/23 [==============================] - 0s 10ms/step - loss: 0.2160 - accuracy: 0.7826\n",
      "Epoch 143/200\n",
      "23/23 [==============================] - 0s 9ms/step - loss: 0.2253 - accuracy: 0.7391\n",
      "Epoch 144/200\n",
      "23/23 [==============================] - 0s 8ms/step - loss: 0.1989 - accuracy: 0.7826\n",
      "Epoch 145/200\n",
      "23/23 [==============================] - 0s 9ms/step - loss: 0.1942 - accuracy: 0.8261\n",
      "Epoch 146/200\n",
      "23/23 [==============================] - 0s 10ms/step - loss: 0.1999 - accuracy: 0.8261\n",
      "Epoch 147/200\n",
      "23/23 [==============================] - 0s 9ms/step - loss: 0.1956 - accuracy: 0.7391\n",
      "Epoch 148/200\n",
      "23/23 [==============================] - 0s 10ms/step - loss: 0.2029 - accuracy: 0.8261\n",
      "Epoch 149/200\n",
      "23/23 [==============================] - 0s 9ms/step - loss: 0.1983 - accuracy: 0.8696\n",
      "Epoch 150/200\n",
      "23/23 [==============================] - 0s 9ms/step - loss: 0.2007 - accuracy: 0.8696\n",
      "Epoch 151/200\n",
      "23/23 [==============================] - 0s 8ms/step - loss: 0.1992 - accuracy: 0.8261\n",
      "Epoch 152/200\n",
      "23/23 [==============================] - 0s 9ms/step - loss: 0.1995 - accuracy: 0.8261\n",
      "Epoch 153/200\n",
      "23/23 [==============================] - 0s 7ms/step - loss: 0.1979 - accuracy: 0.7826\n",
      "Epoch 154/200\n",
      "23/23 [==============================] - 0s 8ms/step - loss: 0.1935 - accuracy: 0.7826\n",
      "Epoch 155/200\n",
      "23/23 [==============================] - 0s 10ms/step - loss: 0.2073 - accuracy: 0.8696\n",
      "Epoch 156/200\n",
      "23/23 [==============================] - 0s 9ms/step - loss: 0.1987 - accuracy: 0.8261\n",
      "Epoch 157/200\n",
      "23/23 [==============================] - 0s 10ms/step - loss: 0.1949 - accuracy: 0.8261\n",
      "Epoch 158/200\n"
     ]
    },
    {
     "name": "stdout",
     "output_type": "stream",
     "text": [
      "23/23 [==============================] - 0s 9ms/step - loss: 0.1954 - accuracy: 0.8261\n",
      "Epoch 159/200\n",
      "23/23 [==============================] - 0s 9ms/step - loss: 0.2095 - accuracy: 0.7826\n",
      "Epoch 160/200\n",
      "23/23 [==============================] - 0s 9ms/step - loss: 0.1938 - accuracy: 0.8261\n",
      "Epoch 161/200\n",
      "23/23 [==============================] - 0s 9ms/step - loss: 0.1922 - accuracy: 0.8261\n",
      "Epoch 162/200\n",
      "23/23 [==============================] - 0s 10ms/step - loss: 0.1954 - accuracy: 0.8261\n",
      "Epoch 163/200\n",
      "23/23 [==============================] - 0s 10ms/step - loss: 0.1970 - accuracy: 0.8261\n",
      "Epoch 164/200\n",
      "23/23 [==============================] - 0s 10ms/step - loss: 0.1990 - accuracy: 0.8696\n",
      "Epoch 165/200\n",
      "23/23 [==============================] - 0s 10ms/step - loss: 0.1969 - accuracy: 0.7826\n",
      "Epoch 166/200\n",
      "23/23 [==============================] - 0s 10ms/step - loss: 0.2134 - accuracy: 0.8261\n",
      "Epoch 167/200\n",
      "23/23 [==============================] - 0s 10ms/step - loss: 0.2008 - accuracy: 0.8261\n",
      "Epoch 168/200\n",
      "23/23 [==============================] - 0s 9ms/step - loss: 0.1999 - accuracy: 0.7826\n",
      "Epoch 169/200\n",
      "23/23 [==============================] - 0s 8ms/step - loss: 0.2053 - accuracy: 0.8261\n",
      "Epoch 170/200\n",
      "23/23 [==============================] - 0s 10ms/step - loss: 0.2025 - accuracy: 0.8261\n",
      "Epoch 171/200\n",
      "23/23 [==============================] - 0s 10ms/step - loss: 0.2097 - accuracy: 0.7391\n",
      "Epoch 172/200\n",
      "23/23 [==============================] - 0s 10ms/step - loss: 0.1935 - accuracy: 0.8696\n",
      "Epoch 173/200\n",
      "23/23 [==============================] - 0s 9ms/step - loss: 0.1968 - accuracy: 0.8261\n",
      "Epoch 174/200\n",
      "23/23 [==============================] - 0s 9ms/step - loss: 0.1983 - accuracy: 0.8261\n",
      "Epoch 175/200\n",
      "23/23 [==============================] - 0s 9ms/step - loss: 0.1962 - accuracy: 0.8261\n",
      "Epoch 176/200\n",
      "23/23 [==============================] - 0s 9ms/step - loss: 0.2023 - accuracy: 0.8261\n",
      "Epoch 177/200\n",
      "23/23 [==============================] - 0s 9ms/step - loss: 0.1907 - accuracy: 0.7826\n",
      "Epoch 178/200\n",
      "23/23 [==============================] - 0s 9ms/step - loss: 0.2013 - accuracy: 0.7826\n",
      "Epoch 179/200\n",
      "23/23 [==============================] - 0s 9ms/step - loss: 0.1980 - accuracy: 0.8696\n",
      "Epoch 180/200\n",
      "23/23 [==============================] - 0s 8ms/step - loss: 0.2043 - accuracy: 0.8261\n",
      "Epoch 181/200\n",
      "23/23 [==============================] - 0s 10ms/step - loss: 0.2032 - accuracy: 0.8261\n",
      "Epoch 182/200\n",
      "23/23 [==============================] - 0s 10ms/step - loss: 0.2028 - accuracy: 0.7391\n",
      "Epoch 183/200\n",
      "23/23 [==============================] - 0s 8ms/step - loss: 0.2039 - accuracy: 0.7826\n",
      "Epoch 184/200\n",
      "23/23 [==============================] - 0s 7ms/step - loss: 0.1942 - accuracy: 0.7826\n",
      "Epoch 185/200\n",
      "23/23 [==============================] - 0s 9ms/step - loss: 0.1959 - accuracy: 0.8261\n",
      "Epoch 186/200\n",
      "23/23 [==============================] - 0s 8ms/step - loss: 0.1939 - accuracy: 0.8261\n",
      "Epoch 187/200\n",
      "23/23 [==============================] - 0s 7ms/step - loss: 0.1910 - accuracy: 0.7826\n",
      "Epoch 188/200\n",
      "23/23 [==============================] - 0s 8ms/step - loss: 0.1979 - accuracy: 0.8261\n",
      "Epoch 189/200\n",
      "23/23 [==============================] - 0s 8ms/step - loss: 0.1887 - accuracy: 0.8696\n",
      "Epoch 190/200\n",
      "23/23 [==============================] - 0s 7ms/step - loss: 0.2077 - accuracy: 0.8261\n",
      "Epoch 191/200\n",
      "23/23 [==============================] - 0s 7ms/step - loss: 0.1958 - accuracy: 0.8696\n",
      "Epoch 192/200\n",
      "23/23 [==============================] - 0s 7ms/step - loss: 0.1875 - accuracy: 0.8261\n",
      "Epoch 193/200\n",
      "23/23 [==============================] - 0s 8ms/step - loss: 0.2044 - accuracy: 0.8261\n",
      "Epoch 194/200\n",
      "23/23 [==============================] - 0s 8ms/step - loss: 0.2032 - accuracy: 0.7391\n",
      "Epoch 195/200\n",
      "23/23 [==============================] - 0s 9ms/step - loss: 0.1926 - accuracy: 0.8261\n",
      "Epoch 196/200\n",
      "23/23 [==============================] - 0s 8ms/step - loss: 0.1963 - accuracy: 0.7391\n",
      "Epoch 197/200\n",
      "23/23 [==============================] - 0s 9ms/step - loss: 0.1978 - accuracy: 0.8261\n",
      "Epoch 198/200\n",
      "23/23 [==============================] - 0s 9ms/step - loss: 0.1959 - accuracy: 0.8261\n",
      "Epoch 199/200\n",
      "23/23 [==============================] - 0s 9ms/step - loss: 0.1948 - accuracy: 0.8261\n",
      "Epoch 200/200\n",
      "23/23 [==============================] - 0s 8ms/step - loss: 0.1942 - accuracy: 0.8261\n"
     ]
    },
    {
     "data": {
      "text/plain": [
       "<keras.src.callbacks.History at 0x29327341250>"
      ]
     },
     "execution_count": 17,
     "metadata": {},
     "output_type": "execute_result"
    }
   ],
   "source": [
    "model.fit(X, y, epochs = 200, batch_size=1)"
   ]
  },
  {
   "cell_type": "markdown",
   "id": "e158e894",
   "metadata": {},
   "source": [
    "### Prediction on new data"
   ]
  },
  {
   "cell_type": "code",
   "execution_count": 18,
   "id": "5e4a653e",
   "metadata": {},
   "outputs": [],
   "source": [
    "# def predict_next_word(model, tokenizer, new, max_sequence_len):\n",
    "#     token_list = tokenizer.texts_to_sequences(new)\n",
    "#     return token_list"
   ]
  },
  {
   "cell_type": "code",
   "execution_count": 21,
   "id": "ef060c92",
   "metadata": {},
   "outputs": [],
   "source": [
    "def predict_next_word(model, tokenizer, text, max_sequence_len):\n",
    "    token_list = tokenizer.texts_to_sequences([text])[0]\n",
    "    token_list = pad_sequences([token_list], maxlen = max_sequence_len-1, padding='pre')\n",
    "    predicted =  model.predict(token_list, verbose=0)\n",
    "    predict_word_index = np.argmax(predicted)\n",
    "    output_word = \"\"\n",
    "    for word, index in tokenizer.word_index.items():\n",
    "        if index == predict_word_index:\n",
    "            output_word=word\n",
    "            break\n",
    "    return output_word"
   ]
  },
  {
   "cell_type": "code",
   "execution_count": 22,
   "id": "de0c53c8",
   "metadata": {},
   "outputs": [
    {
     "name": "stdout",
     "output_type": "stream",
     "text": [
      "Next Word: to\n"
     ]
    }
   ],
   "source": [
    "new ='nice'\n",
    "next_word = predict_next_word(model, tokenizer, new, max_sequence_len)\n",
    "print(f\"Next Word: {next_word}\")\n"
   ]
  },
  {
   "cell_type": "code",
   "execution_count": null,
   "id": "e928b357",
   "metadata": {},
   "outputs": [],
   "source": []
  },
  {
   "cell_type": "code",
   "execution_count": null,
   "id": "9ea3135f",
   "metadata": {},
   "outputs": [],
   "source": []
  }
 ],
 "metadata": {
  "kernelspec": {
   "display_name": "Python 3.8.5 ('base')",
   "language": "python",
   "name": "python3"
  },
  "language_info": {
   "codemirror_mode": {
    "name": "ipython",
    "version": 3
   },
   "file_extension": ".py",
   "mimetype": "text/x-python",
   "name": "python",
   "nbconvert_exporter": "python",
   "pygments_lexer": "ipython3",
   "version": "3.8.5"
  },
  "vscode": {
   "interpreter": {
    "hash": "610a6f344c2137faf927ea819c63f6cee33a2c04455044b28099f39fe9722347"
   }
  }
 },
 "nbformat": 4,
 "nbformat_minor": 5
}
