{
 "cells": [
  {
   "cell_type": "code",
   "execution_count": 23,
   "id": "083ce6fd",
   "metadata": {},
   "outputs": [],
   "source": [
    "import cv2\n",
    "import matplotlib.pyplot as plt"
   ]
  },
  {
   "cell_type": "code",
   "execution_count": 24,
   "id": "d0981336",
   "metadata": {},
   "outputs": [],
   "source": [
    "# load the video\n",
    "\n",
    "vid = cv2.VideoCapture('images/robots.mp4')"
   ]
  },
  {
   "cell_type": "code",
   "execution_count": 25,
   "id": "4b8bd184",
   "metadata": {},
   "outputs": [],
   "source": [
    "# extract the frame\n",
    "\n",
    "ret, frame = vid.read()  #read() -> to read single frame from video"
   ]
  },
  {
   "cell_type": "code",
   "execution_count": 26,
   "id": "d9633716",
   "metadata": {},
   "outputs": [
    {
     "data": {
      "text/plain": [
       "True"
      ]
     },
     "execution_count": 26,
     "metadata": {},
     "output_type": "execute_result"
    }
   ],
   "source": [
    "ret"
   ]
  },
  {
   "cell_type": "code",
   "execution_count": 27,
   "id": "2ef34c99",
   "metadata": {},
   "outputs": [
    {
     "data": {
      "text/plain": [
       "array([[[ 19,  14,  13],\n",
       "        [ 19,  14,  13],\n",
       "        [ 19,  14,  13],\n",
       "        ...,\n",
       "        [ 48,  43,  23],\n",
       "        [ 48,  43,  23],\n",
       "        [ 48,  43,  23]],\n",
       "\n",
       "       [[ 19,  14,  13],\n",
       "        [ 19,  14,  13],\n",
       "        [ 19,  14,  13],\n",
       "        ...,\n",
       "        [ 48,  43,  23],\n",
       "        [ 48,  43,  23],\n",
       "        [ 48,  43,  23]],\n",
       "\n",
       "       [[ 19,  14,  13],\n",
       "        [ 19,  14,  13],\n",
       "        [ 19,  14,  13],\n",
       "        ...,\n",
       "        [ 48,  43,  23],\n",
       "        [ 48,  43,  23],\n",
       "        [ 48,  43,  23]],\n",
       "\n",
       "       ...,\n",
       "\n",
       "       [[164, 167, 178],\n",
       "        [164, 167, 178],\n",
       "        [164, 167, 178],\n",
       "        ...,\n",
       "        [142, 143, 161],\n",
       "        [142, 143, 161],\n",
       "        [142, 143, 161]],\n",
       "\n",
       "       [[164, 167, 178],\n",
       "        [164, 167, 178],\n",
       "        [164, 167, 178],\n",
       "        ...,\n",
       "        [142, 143, 161],\n",
       "        [142, 143, 161],\n",
       "        [142, 143, 161]],\n",
       "\n",
       "       [[164, 167, 178],\n",
       "        [164, 167, 178],\n",
       "        [164, 167, 178],\n",
       "        ...,\n",
       "        [143, 144, 162],\n",
       "        [143, 144, 162],\n",
       "        [143, 144, 162]]], dtype=uint8)"
      ]
     },
     "execution_count": 27,
     "metadata": {},
     "output_type": "execute_result"
    }
   ],
   "source": [
    "frame"
   ]
  },
  {
   "cell_type": "code",
   "execution_count": 28,
   "id": "16417dff",
   "metadata": {},
   "outputs": [
    {
     "data": {
      "text/plain": [
       "(640, 640, 3)"
      ]
     },
     "execution_count": 28,
     "metadata": {},
     "output_type": "execute_result"
    }
   ],
   "source": [
    "frame.shape"
   ]
  },
  {
   "cell_type": "code",
   "execution_count": 29,
   "id": "a6432114",
   "metadata": {},
   "outputs": [],
   "source": [
    "cv2.imshow('First Frame',frame)\n",
    "cv2.waitKey(0)\n",
    "cv2.destroyAllWindows()"
   ]
  },
  {
   "cell_type": "code",
   "execution_count": 30,
   "id": "8265bcc0",
   "metadata": {},
   "outputs": [],
   "source": [
    "width = int(vid.get(cv2.CAP_PROP_FRAME_WIDTH))\n",
    "height = int(vid.get(cv2.CAP_PROP_FRAME_HEIGHT))\n",
    "frames = int(vid.get(cv2.CAP_PROP_FRAME_COUNT))\n",
    "fps = int(vid.get(cv2.CAP_PROP_FPS))"
   ]
  },
  {
   "cell_type": "code",
   "execution_count": 31,
   "id": "8924d40f",
   "metadata": {},
   "outputs": [
    {
     "name": "stdout",
     "output_type": "stream",
     "text": [
      "Video Resolution: 640 640\n",
      "Total Frame: 1799\n",
      "FPS 30\n"
     ]
    }
   ],
   "source": [
    "print(\"Video Resolution:\", height,width)\n",
    "print(\"Total Frame:\", frames)\n",
    "print('FPS', fps)\n"
   ]
  },
  {
   "cell_type": "code",
   "execution_count": 15,
   "id": "7a35ee38",
   "metadata": {},
   "outputs": [
    {
     "name": "stdout",
     "output_type": "stream",
     "text": [
      "Length of video 59.96666666666667\n"
     ]
    }
   ],
   "source": [
    "print(\"Length of video\", frames / fps)"
   ]
  },
  {
   "cell_type": "code",
   "execution_count": 19,
   "id": "7c1826f7",
   "metadata": {},
   "outputs": [],
   "source": [
    "vid = cv2.VideoCapture('images/robots.mp4')\n",
    "while True:\n",
    "    ret, frame = vid.read()\n",
    "    if not ret:\n",
    "        break\n",
    "    \n",
    "    #Process thr frame e.g -> apply filters, detect objects\n",
    "    \n",
    "    cv2.imshow('Video', frame)\n",
    "    if cv2.waitKey(5) == ord('q'):  #ord -> ascii value of 'q'\n",
    "        break\n",
    "cv2.destroyAllWindows()"
   ]
  },
  {
   "cell_type": "markdown",
   "id": "8af01451",
   "metadata": {},
   "source": [
    "### Capture the image and save"
   ]
  },
  {
   "cell_type": "code",
   "execution_count": 21,
   "id": "aa052e98",
   "metadata": {},
   "outputs": [],
   "source": [
    "vid = cv2.VideoCapture('images/robots.mp4')\n",
    "\n",
    "#get the first frame and see if successful\n",
    "success , frame = vid.read()\n",
    "\n",
    "#initiate count\n",
    "\n",
    "count = 1\n",
    "#keep extracting the frames as long as success is True\n",
    "while success :\n",
    "    cv2.imwrite(f'Video_Frames/{count}.jpg', frame)\n",
    "    success, frame = vid.read()\n",
    "    count+=1"
   ]
  },
  {
   "cell_type": "markdown",
   "id": "0c61627a",
   "metadata": {},
   "source": [
    "#### Working with timestamp"
   ]
  },
  {
   "cell_type": "code",
   "execution_count": 35,
   "id": "bd9a6f51",
   "metadata": {},
   "outputs": [
    {
     "name": "stdout",
     "output_type": "stream",
     "text": [
      "0.0 0.0 48.0\n"
     ]
    }
   ],
   "source": [
    "# get frame at a specific timestamp\n",
    "timestamp='00:00:48.00'\n",
    "hours,minutes,seconds=[float(i) for i in timestamp.split(':')]\n",
    "print(hours,minutes,seconds)"
   ]
  },
  {
   "cell_type": "code",
   "execution_count": 38,
   "id": "29d796f6",
   "metadata": {},
   "outputs": [
    {
     "data": {
      "text/plain": [
       "['00', '00', '48.00']"
      ]
     },
     "execution_count": 38,
     "metadata": {},
     "output_type": "execute_result"
    }
   ],
   "source": [
    "timestamp='00:00:48.00'\n",
    "timestamp.split(':')"
   ]
  },
  {
   "cell_type": "code",
   "execution_count": 39,
   "id": "96ad5b22",
   "metadata": {},
   "outputs": [
    {
     "name": "stdout",
     "output_type": "stream",
     "text": [
      "1799 1440.0\n"
     ]
    }
   ],
   "source": [
    "trigger_frame=hours*3600*fps+minutes*60*fps+seconds*fps\n",
    "print(frames,trigger_frame)"
   ]
  },
  {
   "cell_type": "code",
   "execution_count": 41,
   "id": "69e6993d",
   "metadata": {},
   "outputs": [],
   "source": [
    "# go to frame slected by timestamp\n",
    "vid.set(1,trigger_frame)\n",
    "success,frame=vid.read()\n",
    "\n",
    "#save the frame into an image file\n",
    "if success:\n",
    "    cv2.imwrite('screen.jpg',frame)"
   ]
  },
  {
   "cell_type": "markdown",
   "id": "ad330dbf",
   "metadata": {},
   "source": [
    "#### Capture using camera"
   ]
  },
  {
   "cell_type": "code",
   "execution_count": 52,
   "id": "fe0d313b",
   "metadata": {},
   "outputs": [
    {
     "data": {
      "text/plain": [
       "True"
      ]
     },
     "execution_count": 52,
     "metadata": {},
     "output_type": "execute_result"
    }
   ],
   "source": [
    "vid=cv2.VideoCapture(0)\n",
    "vid.isOpened()\n"
   ]
  },
  {
   "cell_type": "code",
   "execution_count": 53,
   "id": "293af511",
   "metadata": {},
   "outputs": [],
   "source": [
    "success,frame=vid.read()"
   ]
  },
  {
   "cell_type": "code",
   "execution_count": 54,
   "id": "9c023356",
   "metadata": {},
   "outputs": [],
   "source": [
    "vid.release()"
   ]
  },
  {
   "cell_type": "code",
   "execution_count": 55,
   "id": "03e86070",
   "metadata": {},
   "outputs": [
    {
     "data": {
      "text/plain": [
       "True"
      ]
     },
     "execution_count": 55,
     "metadata": {},
     "output_type": "execute_result"
    }
   ],
   "source": [
    "cv2.imwrite('myimage1.jpg',frame)"
   ]
  },
  {
   "cell_type": "code",
   "execution_count": 56,
   "id": "a92c0920",
   "metadata": {},
   "outputs": [],
   "source": [
    "cap=cv2.VideoCapture(0) \n",
    "\n",
    "#Read until video is completed\n",
    "\n",
    "while(cap.isOpened()):\n",
    "    #capture frame-by-frame\n",
    "    ret,frame=cap.read()\n",
    "    if ret==True:\n",
    "        #Display the resulting frame\n",
    "        cv2.imshow('Frame',frame)\n",
    "        #Press Q on keyboard to exit\n",
    "        \n",
    "        if cv2.waitKey(1) & 0xFF==ord('q'):\n",
    "            break\n",
    "    else:\n",
    "        break\n",
    "        \n",
    "#when everything is done, release the video capture object\n",
    "cap.release()\n",
    "\n",
    "#close all the frames\n",
    "cv2.destroyAllWindows()"
   ]
  },
  {
   "cell_type": "code",
   "execution_count": null,
   "id": "a0514135",
   "metadata": {},
   "outputs": [],
   "source": []
  }
 ],
 "metadata": {
  "kernelspec": {
   "display_name": "Python 3 (ipykernel)",
   "language": "python",
   "name": "python3"
  },
  "language_info": {
   "codemirror_mode": {
    "name": "ipython",
    "version": 3
   },
   "file_extension": ".py",
   "mimetype": "text/x-python",
   "name": "python",
   "nbconvert_exporter": "python",
   "pygments_lexer": "ipython3",
   "version": "3.11.7"
  }
 },
 "nbformat": 4,
 "nbformat_minor": 5
}
