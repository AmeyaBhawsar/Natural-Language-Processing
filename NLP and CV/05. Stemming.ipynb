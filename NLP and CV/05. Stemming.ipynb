{
 "cells": [
  {
   "cell_type": "markdown",
   "id": "4ceac89c",
   "metadata": {},
   "source": [
    "### Declare the words"
   ]
  },
  {
   "cell_type": "code",
   "execution_count": 2,
   "id": "6d80f673",
   "metadata": {},
   "outputs": [],
   "source": [
    "words1 = 'managing','manage','management','managerial','managed'\n",
    "words2 = 'worked', 'workable', 'working'\n",
    "words3 = 'big','biggest', 'bigger'\n",
    "words4 = 'go','gone','went','going'\n",
    "words5 = 'association','associated', 'associate'"
   ]
  },
  {
   "cell_type": "markdown",
   "id": "b63580e5",
   "metadata": {},
   "source": [
    "## Porter Stemmer"
   ]
  },
  {
   "cell_type": "code",
   "execution_count": 3,
   "id": "3b80df58",
   "metadata": {},
   "outputs": [],
   "source": [
    "from nltk.stem import PorterStemmer"
   ]
  },
  {
   "cell_type": "code",
   "execution_count": 4,
   "id": "8be7217a",
   "metadata": {},
   "outputs": [],
   "source": [
    "ps=PorterStemmer()"
   ]
  },
  {
   "cell_type": "code",
   "execution_count": 5,
   "id": "83cdbf5c",
   "metadata": {},
   "outputs": [
    {
     "data": {
      "text/plain": [
       "'manag'"
      ]
     },
     "execution_count": 5,
     "metadata": {},
     "output_type": "execute_result"
    }
   ],
   "source": [
    "ps.stem(words1[0])"
   ]
  },
  {
   "cell_type": "code",
   "execution_count": 11,
   "id": "9888686b",
   "metadata": {},
   "outputs": [
    {
     "data": {
      "text/plain": [
       "'manageri'"
      ]
     },
     "execution_count": 11,
     "metadata": {},
     "output_type": "execute_result"
    }
   ],
   "source": [
    "ps.stem(words1[3])"
   ]
  },
  {
   "cell_type": "code",
   "execution_count": 15,
   "id": "e4f0bba2",
   "metadata": {},
   "outputs": [
    {
     "name": "stdout",
     "output_type": "stream",
     "text": [
      "managing ----> manag\n",
      "manage ----> manag\n",
      "management ----> manag\n",
      "managerial ----> manageri\n",
      "managed ----> manag\n"
     ]
    }
   ],
   "source": [
    "for word in words1:\n",
    "    print(word,'---->',ps.stem(word))"
   ]
  },
  {
   "cell_type": "code",
   "execution_count": 16,
   "id": "75905b62",
   "metadata": {},
   "outputs": [
    {
     "name": "stdout",
     "output_type": "stream",
     "text": [
      "worked ----> work\n",
      "workable ----> workabl\n",
      "working ----> work\n"
     ]
    }
   ],
   "source": [
    "for word in words2:\n",
    "    print(word,'---->',ps.stem(word))"
   ]
  },
  {
   "cell_type": "code",
   "execution_count": 17,
   "id": "d2a9e5cd",
   "metadata": {},
   "outputs": [
    {
     "name": "stdout",
     "output_type": "stream",
     "text": [
      "big ----> big\n",
      "biggest ----> biggest\n",
      "bigger ----> bigger\n"
     ]
    }
   ],
   "source": [
    "for word in words3:\n",
    "    print(word,'---->',ps.stem(word))"
   ]
  },
  {
   "cell_type": "code",
   "execution_count": 18,
   "id": "6f52d0a8",
   "metadata": {},
   "outputs": [
    {
     "name": "stdout",
     "output_type": "stream",
     "text": [
      "go ----> go\n",
      "gone ----> gone\n",
      "went ----> went\n",
      "going ----> go\n"
     ]
    }
   ],
   "source": [
    "for word in words4:\n",
    "    print(word,'---->',ps.stem(word))"
   ]
  },
  {
   "cell_type": "code",
   "execution_count": 19,
   "id": "50a096b9",
   "metadata": {},
   "outputs": [
    {
     "name": "stdout",
     "output_type": "stream",
     "text": [
      "association ----> associ\n",
      "associated ----> associ\n",
      "associate ----> associ\n"
     ]
    }
   ],
   "source": [
    "for word in words5:\n",
    "    print(word,'---->',ps.stem(word))"
   ]
  },
  {
   "cell_type": "code",
   "execution_count": 20,
   "id": "2dd4e802",
   "metadata": {},
   "outputs": [],
   "source": []
  },
  {
   "cell_type": "code",
   "execution_count": 28,
   "id": "46862a13",
   "metadata": {},
   "outputs": [],
   "source": [
    "from nltk.tokenize import word_tokenize\n",
    "from nltk.corpus import stopwords"
   ]
  },
  {
   "cell_type": "code",
   "execution_count": 29,
   "id": "bcc2739f",
   "metadata": {},
   "outputs": [],
   "source": [
    "sent = 'Hello friends! How are you? Welcome to the world of Programming.'\n"
   ]
  },
  {
   "cell_type": "code",
   "execution_count": 30,
   "id": "3437d6b6",
   "metadata": {},
   "outputs": [],
   "source": [
    "swords = stopwords.words('english')"
   ]
  },
  {
   "cell_type": "code",
   "execution_count": 31,
   "id": "9f898811",
   "metadata": {},
   "outputs": [],
   "source": [
    "word=word_tokenize(sent)"
   ]
  },
  {
   "cell_type": "code",
   "execution_count": 32,
   "id": "789db122",
   "metadata": {},
   "outputs": [
    {
     "data": {
      "text/plain": [
       "['Hello', 'friends', 'Welcome', 'world', 'Programming']"
      ]
     },
     "execution_count": 32,
     "metadata": {},
     "output_type": "execute_result"
    }
   ],
   "source": [
    "clean =[w for w in word if w.lower() not in swords and w.isalnum()]\n",
    "clean"
   ]
  },
  {
   "cell_type": "code",
   "execution_count": 33,
   "id": "86828d1f",
   "metadata": {},
   "outputs": [
    {
     "name": "stdout",
     "output_type": "stream",
     "text": [
      "Hello ----> hello\n",
      "friends ----> friend\n",
      "Welcome ----> welcom\n",
      "world ----> world\n",
      "Programming ----> program\n"
     ]
    }
   ],
   "source": [
    "for word in clean:\n",
    "    print(word,'---->',ps.stem(word))"
   ]
  },
  {
   "cell_type": "code",
   "execution_count": 34,
   "id": "e3a3fb06",
   "metadata": {},
   "outputs": [
    {
     "data": {
      "text/plain": [
       "['hello', 'friend', 'welcom', 'world', 'program']"
      ]
     },
     "execution_count": 34,
     "metadata": {},
     "output_type": "execute_result"
    }
   ],
   "source": [
    "clean = [ps.stem(x) for x in clean]\n",
    "clean"
   ]
  },
  {
   "cell_type": "markdown",
   "id": "2d7a9277",
   "metadata": {},
   "source": [
    "## Lancaster stemmer"
   ]
  },
  {
   "cell_type": "code",
   "execution_count": 37,
   "id": "96f17f1d",
   "metadata": {},
   "outputs": [],
   "source": [
    "from nltk.stem import LancasterStemmer"
   ]
  },
  {
   "cell_type": "code",
   "execution_count": 41,
   "id": "c9345d3b",
   "metadata": {},
   "outputs": [],
   "source": [
    "ls=LancasterStemmer()"
   ]
  },
  {
   "cell_type": "code",
   "execution_count": 46,
   "id": "a15a3eda",
   "metadata": {},
   "outputs": [
    {
     "name": "stdout",
     "output_type": "stream",
     "text": [
      "managing ----> man\n",
      "manage ----> man\n",
      "management ----> man\n",
      "managerial ----> man\n",
      "managed ----> man\n"
     ]
    }
   ],
   "source": [
    "for word in words1:\n",
    "    print(word,'---->',ls.stem(word))"
   ]
  },
  {
   "cell_type": "code",
   "execution_count": 47,
   "id": "aa0aa010",
   "metadata": {},
   "outputs": [
    {
     "name": "stdout",
     "output_type": "stream",
     "text": [
      "worked ----> work\n",
      "workable ----> work\n",
      "working ----> work\n"
     ]
    }
   ],
   "source": [
    "for word in words2:\n",
    "    print(word,'---->',ls.stem(word))"
   ]
  },
  {
   "cell_type": "code",
   "execution_count": 48,
   "id": "b711572c",
   "metadata": {},
   "outputs": [
    {
     "name": "stdout",
     "output_type": "stream",
     "text": [
      "big ----> big\n",
      "biggest ----> biggest\n",
      "bigger ----> big\n"
     ]
    }
   ],
   "source": [
    "for word in words3:\n",
    "    print(word,'---->',ls.stem(word))"
   ]
  },
  {
   "cell_type": "code",
   "execution_count": 49,
   "id": "0dc3cf89",
   "metadata": {},
   "outputs": [
    {
     "name": "stdout",
     "output_type": "stream",
     "text": [
      "go ----> go\n",
      "gone ----> gon\n",
      "went ----> went\n",
      "going ----> going\n"
     ]
    }
   ],
   "source": [
    "for word in words4:\n",
    "    print(word,'---->',ls.stem(word))"
   ]
  },
  {
   "cell_type": "code",
   "execution_count": 50,
   "id": "bbd9901f",
   "metadata": {},
   "outputs": [
    {
     "name": "stdout",
     "output_type": "stream",
     "text": [
      "association ----> assocy\n",
      "associated ----> assocy\n",
      "associate ----> assocy\n"
     ]
    }
   ],
   "source": [
    "for word in words5:\n",
    "    print(word,'---->',ls.stem(word))"
   ]
  },
  {
   "cell_type": "markdown",
   "id": "e37fdfe8",
   "metadata": {},
   "source": [
    "### Snowball stemmer"
   ]
  },
  {
   "cell_type": "code",
   "execution_count": 51,
   "id": "13a0340c",
   "metadata": {},
   "outputs": [],
   "source": [
    "from nltk.stem import SnowballStemmer"
   ]
  },
  {
   "cell_type": "code",
   "execution_count": 58,
   "id": "5cf04cf9",
   "metadata": {},
   "outputs": [],
   "source": [
    "snt=SnowballStemmer(language='english', ignore_stopwords=True)"
   ]
  },
  {
   "cell_type": "code",
   "execution_count": 65,
   "id": "cab14f47",
   "metadata": {},
   "outputs": [],
   "source": [
    "words6 = 'Ameya','Pranav','Kabir','Kunal'\n"
   ]
  },
  {
   "cell_type": "code",
   "execution_count": 66,
   "id": "53bfccd6",
   "metadata": {},
   "outputs": [
    {
     "name": "stdout",
     "output_type": "stream",
     "text": [
      "association ----> associ\n",
      "associated ----> associ\n",
      "associate ----> associ\n"
     ]
    }
   ],
   "source": [
    "for word in words5:\n",
    "    print(word,'---->',snt.stem(word))"
   ]
  },
  {
   "cell_type": "code",
   "execution_count": 67,
   "id": "10b18eff",
   "metadata": {},
   "outputs": [
    {
     "name": "stdout",
     "output_type": "stream",
     "text": [
      "Ameya ----> ameya\n",
      "Pranav ----> pranav\n",
      "Kabir ----> kabir\n",
      "Kunal ----> kunal\n"
     ]
    }
   ],
   "source": [
    "for word in words6:\n",
    "    print(word,'---->',snt.stem(word))"
   ]
  },
  {
   "cell_type": "code",
   "execution_count": null,
   "id": "3351f41c",
   "metadata": {},
   "outputs": [],
   "source": []
  },
  {
   "cell_type": "code",
   "execution_count": null,
   "id": "0b0efc2f",
   "metadata": {},
   "outputs": [],
   "source": []
  }
 ],
 "metadata": {
  "kernelspec": {
   "display_name": "Python 3.8.5 ('base')",
   "language": "python",
   "name": "python3"
  },
  "language_info": {
   "codemirror_mode": {
    "name": "ipython",
    "version": 3
   },
   "file_extension": ".py",
   "mimetype": "text/x-python",
   "name": "python",
   "nbconvert_exporter": "python",
   "pygments_lexer": "ipython3",
   "version": "3.8.5"
  },
  "vscode": {
   "interpreter": {
    "hash": "610a6f344c2137faf927ea819c63f6cee33a2c04455044b28099f39fe9722347"
   }
  }
 },
 "nbformat": 4,
 "nbformat_minor": 5
}
