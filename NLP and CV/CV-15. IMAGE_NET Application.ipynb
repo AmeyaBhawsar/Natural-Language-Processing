{
 "cells": [
  {
   "cell_type": "code",
   "execution_count": 1,
   "id": "4f6989ba",
   "metadata": {},
   "outputs": [
    {
     "name": "stdout",
     "output_type": "stream",
     "text": [
      "WARNING:tensorflow:From C:\\Users\\Administrator.DAI-PC2\\AppData\\Roaming\\Python\\Python311\\site-packages\\keras\\src\\losses.py:2976: The name tf.losses.sparse_softmax_cross_entropy is deprecated. Please use tf.compat.v1.losses.sparse_softmax_cross_entropy instead.\n",
      "\n"
     ]
    }
   ],
   "source": [
    "import pandas as pd\n",
    "import numpy as np\n",
    "import seaborn as sns\n",
    "import matplotlib.pyplot as plt\n",
    "\n",
    "\n",
    "from keras.layers import Dense, Flatten, Conv2D, MaxPool2D, Dropout\n",
    "from keras.models import Sequential\n",
    "from keras.preprocessing.image import ImageDataGenerator"
   ]
  },
  {
   "cell_type": "markdown",
   "id": "309f0bc2",
   "metadata": {},
   "source": [
    "## Build Model\n"
   ]
  },
  {
   "cell_type": "code",
   "execution_count": 2,
   "id": "49eade52",
   "metadata": {},
   "outputs": [],
   "source": [
    "def build_cnn(input_shape=(224,224,3), num_classes=10):\n",
    "    \n",
    "    model = Sequential()\n",
    "    \n",
    "    model.add(Conv2D(32, (3,3), input_shape=input_shape, activation='relu'))\n",
    "    model.add(MaxPool2D(pool_size=(2,2)))\n",
    " \n",
    "    model.add(Conv2D(64, (3,3), activation='relu'))\n",
    "    model.add(MaxPool2D(pool_size=(2,2)))\n",
    "\n",
    "    model.add(Flatten())\n",
    "    model.add(Dense(num_classes, activation='softmax'))\n",
    "    \n",
    "    return model"
   ]
  },
  {
   "cell_type": "code",
   "execution_count": 3,
   "id": "a64b2aee",
   "metadata": {},
   "outputs": [
    {
     "name": "stdout",
     "output_type": "stream",
     "text": [
      "WARNING:tensorflow:From C:\\Users\\Administrator.DAI-PC2\\AppData\\Roaming\\Python\\Python311\\site-packages\\keras\\src\\backend.py:873: The name tf.get_default_graph is deprecated. Please use tf.compat.v1.get_default_graph instead.\n",
      "\n",
      "WARNING:tensorflow:From C:\\Users\\Administrator.DAI-PC2\\AppData\\Roaming\\Python\\Python311\\site-packages\\keras\\src\\layers\\pooling\\max_pooling2d.py:161: The name tf.nn.max_pool is deprecated. Please use tf.nn.max_pool2d instead.\n",
      "\n"
     ]
    }
   ],
   "source": [
    "model = build_cnn(input_shape=(64,64,3))"
   ]
  },
  {
   "cell_type": "code",
   "execution_count": 4,
   "id": "296a5bc0",
   "metadata": {},
   "outputs": [
    {
     "name": "stdout",
     "output_type": "stream",
     "text": [
      "Model: \"sequential\"\n",
      "_________________________________________________________________\n",
      " Layer (type)                Output Shape              Param #   \n",
      "=================================================================\n",
      " conv2d (Conv2D)             (None, 62, 62, 32)        896       \n",
      "                                                                 \n",
      " max_pooling2d (MaxPooling2  (None, 31, 31, 32)        0         \n",
      " D)                                                              \n",
      "                                                                 \n",
      " conv2d_1 (Conv2D)           (None, 29, 29, 64)        18496     \n",
      "                                                                 \n",
      " max_pooling2d_1 (MaxPoolin  (None, 14, 14, 64)        0         \n",
      " g2D)                                                            \n",
      "                                                                 \n",
      " flatten (Flatten)           (None, 12544)             0         \n",
      "                                                                 \n",
      " dense (Dense)               (None, 10)                125450    \n",
      "                                                                 \n",
      "=================================================================\n",
      "Total params: 144842 (565.79 KB)\n",
      "Trainable params: 144842 (565.79 KB)\n",
      "Non-trainable params: 0 (0.00 Byte)\n",
      "_________________________________________________________________\n"
     ]
    }
   ],
   "source": [
    "model.summary()"
   ]
  },
  {
   "cell_type": "markdown",
   "id": "a64a9a82",
   "metadata": {},
   "source": [
    "#### Create object data generator"
   ]
  },
  {
   "cell_type": "code",
   "execution_count": 5,
   "id": "2ef5086e",
   "metadata": {},
   "outputs": [],
   "source": [
    "train_datagen = ImageDataGenerator(rescale=1/255,\n",
    "                                  shear_range=0.2,\n",
    "                                  zoom_range=0.2,\n",
    "                                  horizontal_flip=True)"
   ]
  },
  {
   "cell_type": "code",
   "execution_count": 6,
   "id": "c1fa3c48",
   "metadata": {},
   "outputs": [],
   "source": [
    "test_datagen = ImageDataGenerator(rescale=1/255)"
   ]
  },
  {
   "cell_type": "code",
   "execution_count": 21,
   "id": "0c5d4a83",
   "metadata": {},
   "outputs": [
    {
     "name": "stdout",
     "output_type": "stream",
     "text": [
      "Found 5000 images belonging to 10 classes.\n"
     ]
    }
   ],
   "source": [
    "train_dataset = train_datagen.flow_from_directory('C:/Users/Administrator.DAI-PC2/NLP and CV/imagenet-new/train/',\n",
    "                                         target_size=(64,64),\n",
    "                                         batch_size=32,\n",
    "                                         class_mode='categorical')\n",
    "#class-> category more than 2 classes present"
   ]
  },
  {
   "cell_type": "code",
   "execution_count": 22,
   "id": "c090fa29",
   "metadata": {},
   "outputs": [
    {
     "name": "stdout",
     "output_type": "stream",
     "text": [
      "Found 10000 images belonging to 1 classes.\n"
     ]
    }
   ],
   "source": [
    "test_dataset = test_datagen.flow_from_directory('C:/Users/Administrator.DAI-PC2/NLP and CV/imagenet-new/test/',\n",
    "                                         target_size=(64,64),\n",
    "                                         batch_size=32,\n",
    "                                         class_mode='categorical')\n"
   ]
  },
  {
   "cell_type": "code",
   "execution_count": 23,
   "id": "d8e08a65",
   "metadata": {},
   "outputs": [
    {
     "data": {
      "text/plain": [
       "{'crocodile': 0,\n",
       " 'fish': 1,\n",
       " 'fossils': 2,\n",
       " 'frog': 3,\n",
       " 'insect': 4,\n",
       " 'reptiles': 5,\n",
       " 'scorpion': 6,\n",
       " 'snake': 7,\n",
       " 'spider': 8,\n",
       " 'toad': 9}"
      ]
     },
     "execution_count": 23,
     "metadata": {},
     "output_type": "execute_result"
    }
   ],
   "source": [
    "train_dataset.class_indices"
   ]
  },
  {
   "cell_type": "code",
   "execution_count": 24,
   "id": "913bda50",
   "metadata": {},
   "outputs": [],
   "source": [
    "# Compile Model\n",
    "\n",
    "model.compile(optimizer='adam', loss='categorical_crossentropy', metrics=['accuracy'])"
   ]
  },
  {
   "cell_type": "code",
   "execution_count": null,
   "id": "96dcef42",
   "metadata": {},
   "outputs": [
    {
     "name": "stdout",
     "output_type": "stream",
     "text": [
      "Epoch 1/10\n",
      "157/157 [==============================] - 15s 87ms/step - loss: 1.9629 - accuracy: 0.2944\n",
      "Epoch 2/10\n",
      "157/157 [==============================] - 14s 86ms/step - loss: 1.6733 - accuracy: 0.4216\n",
      "Epoch 3/10\n",
      "157/157 [==============================] - 14s 87ms/step - loss: 1.5506 - accuracy: 0.4674\n",
      "Epoch 4/10\n",
      "157/157 [==============================] - 14s 91ms/step - loss: 1.4701 - accuracy: 0.5002\n",
      "Epoch 5/10\n",
      "111/157 [====================>.........] - ETA: 4s - loss: 1.3801 - accuracy: 0.5368"
     ]
    }
   ],
   "source": [
    "# Train model\n",
    "model.fit(train_dataset, epochs=10, batch_size=32)"
   ]
  },
  {
   "cell_type": "code",
   "execution_count": null,
   "id": "28a862c2",
   "metadata": {},
   "outputs": [],
   "source": []
  }
 ],
 "metadata": {
  "kernelspec": {
   "display_name": "Python 3 (ipykernel)",
   "language": "python",
   "name": "python3"
  },
  "language_info": {
   "codemirror_mode": {
    "name": "ipython",
    "version": 3
   },
   "file_extension": ".py",
   "mimetype": "text/x-python",
   "name": "python",
   "nbconvert_exporter": "python",
   "pygments_lexer": "ipython3",
   "version": "3.11.7"
  }
 },
 "nbformat": 4,
 "nbformat_minor": 5
}
