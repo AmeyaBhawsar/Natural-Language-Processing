{
 "cells": [
  {
   "cell_type": "code",
   "execution_count": 1,
   "id": "55cbd7f6",
   "metadata": {},
   "outputs": [
    {
     "name": "stdout",
     "output_type": "stream",
     "text": [
      "Defaulting to user installation because normal site-packages is not writeable\n",
      "Collecting language-tool-python\n",
      "  Downloading language_tool_python-2.8-py3-none-any.whl.metadata (12 kB)\n",
      "Requirement already satisfied: pip in c:\\users\\administrator.dai-pc2\\appdata\\roaming\\python\\python311\\site-packages (from language-tool-python) (24.0)\n",
      "Requirement already satisfied: requests in c:\\programdata\\anaconda3\\lib\\site-packages (from language-tool-python) (2.31.0)\n",
      "Requirement already satisfied: tqdm in c:\\programdata\\anaconda3\\lib\\site-packages (from language-tool-python) (4.65.0)\n",
      "Requirement already satisfied: wheel in c:\\programdata\\anaconda3\\lib\\site-packages (from language-tool-python) (0.41.2)\n",
      "Requirement already satisfied: charset-normalizer<4,>=2 in c:\\users\\administrator.dai-pc2\\appdata\\roaming\\python\\python311\\site-packages (from requests->language-tool-python) (3.3.2)\n",
      "Requirement already satisfied: idna<4,>=2.5 in c:\\programdata\\anaconda3\\lib\\site-packages (from requests->language-tool-python) (3.4)\n",
      "Requirement already satisfied: urllib3<3,>=1.21.1 in c:\\programdata\\anaconda3\\lib\\site-packages (from requests->language-tool-python) (2.0.7)\n",
      "Requirement already satisfied: certifi>=2017.4.17 in c:\\programdata\\anaconda3\\lib\\site-packages (from requests->language-tool-python) (2024.2.2)\n",
      "Requirement already satisfied: colorama in c:\\programdata\\anaconda3\\lib\\site-packages (from tqdm->language-tool-python) (0.4.6)\n",
      "Downloading language_tool_python-2.8-py3-none-any.whl (35 kB)\n",
      "Installing collected packages: language-tool-python\n",
      "Successfully installed language-tool-python-2.8\n"
     ]
    }
   ],
   "source": [
    "!pip install language-tool-python "
   ]
  },
  {
   "cell_type": "code",
   "execution_count": 2,
   "id": "a043d6e9",
   "metadata": {},
   "outputs": [],
   "source": [
    "import language_tool_python"
   ]
  },
  {
   "cell_type": "code",
   "execution_count": 3,
   "id": "55f87c07",
   "metadata": {},
   "outputs": [
    {
     "name": "stderr",
     "output_type": "stream",
     "text": [
      "Downloading LanguageTool 6.4: 100%|██████████| 246M/246M [00:04<00:00, 49.4MB/s] \n",
      "Unzipping C:\\Users\\ADMINI~1.DAI\\AppData\\Local\\Temp\\tmp52rfmq9e.zip to C:\\Users\\Administrator.DAI-PC2\\.cache\\language_tool_python.\n",
      "Downloaded https://www.languagetool.org/download/LanguageTool-6.4.zip to C:\\Users\\Administrator.DAI-PC2\\.cache\\language_tool_python.\n"
     ]
    }
   ],
   "source": [
    "# set the language\n",
    "\n",
    "my_tool = language_tool_python.LanguageTool('en-US')"
   ]
  },
  {
   "cell_type": "code",
   "execution_count": 4,
   "id": "5c8af336",
   "metadata": {},
   "outputs": [
    {
     "name": "stdout",
     "output_type": "stream",
     "text": [
      "Help on class LanguageTool in module language_tool_python.server:\n",
      "\n",
      "class LanguageTool(builtins.object)\n",
      " |  LanguageTool(language=None, motherTongue=None, remote_server=None, newSpellings=None, new_spellings_persist=True, host=None, config=None, language_tool_download_version: str = '6.4')\n",
      " |  \n",
      " |  Main class used for checking text against different rules.\n",
      " |  LanguageTool v2 API documentation:\n",
      " |  https://languagetool.org/http-api/swagger-ui/#!/default/post_check\n",
      " |  \n",
      " |  Methods defined here:\n",
      " |  \n",
      " |  __del__(self)\n",
      " |  \n",
      " |  __enter__(self)\n",
      " |  \n",
      " |  __exit__(self, exc_type, exc_val, exc_tb)\n",
      " |  \n",
      " |  __init__(self, language=None, motherTongue=None, remote_server=None, newSpellings=None, new_spellings_persist=True, host=None, config=None, language_tool_download_version: str = '6.4')\n",
      " |      Initialize self.  See help(type(self)) for accurate signature.\n",
      " |  \n",
      " |  __repr__(self)\n",
      " |      Return repr(self).\n",
      " |  \n",
      " |  check(self, text: str) -> List[language_tool_python.match.Match]\n",
      " |      Match text against enabled rules.\n",
      " |  \n",
      " |  close(self)\n",
      " |  \n",
      " |  correct(self, text: str) -> str\n",
      " |      Automatically apply suggestions to the text.\n",
      " |  \n",
      " |  disable_spellchecking(self)\n",
      " |      Disable spell-checking rules.\n",
      " |  \n",
      " |  enable_spellchecking(self)\n",
      " |      Enable spell-checking rules.\n",
      " |  \n",
      " |  ----------------------------------------------------------------------\n",
      " |  Data descriptors defined here:\n",
      " |  \n",
      " |  __dict__\n",
      " |      dictionary for instance variables\n",
      " |  \n",
      " |  __weakref__\n",
      " |      list of weak references to the object\n",
      " |  \n",
      " |  language\n",
      " |      The language to be used.\n",
      " |  \n",
      " |  motherTongue\n",
      " |      The user's mother tongue or None.\n",
      " |      The mother tongue may also be used as a source language for\n",
      " |      checking bilingual texts.\n",
      " |  \n",
      " |  ----------------------------------------------------------------------\n",
      " |  Data and other attributes defined here:\n",
      " |  \n",
      " |  __annotations__ = {'_consumer_thread': <class 'threading.Thread'>, '_s...\n",
      "\n"
     ]
    }
   ],
   "source": [
    "help(language_tool_python.LanguageTool)"
   ]
  },
  {
   "cell_type": "code",
   "execution_count": 5,
   "id": "bf7fe211",
   "metadata": {},
   "outputs": [],
   "source": [
    "my_text = 'He have collected a documents. I is there.'"
   ]
  },
  {
   "cell_type": "code",
   "execution_count": 6,
   "id": "3996c19b",
   "metadata": {},
   "outputs": [
    {
     "name": "stdout",
     "output_type": "stream",
     "text": [
      "Offset 3, length 4, Rule ID: HE_VERB_AGR\n",
      "Message: The pronoun ‘He’ is usually used with a third-person or a past tense verb.\n",
      "Suggestion: has; had\n",
      "He have collected a documents. I is there.\n",
      "   ^^^^\n",
      "Offset 18, length 11, Rule ID: A_NNS\n",
      "Message: The plural noun “documents” cannot be used with the article “a”. Did you mean “a document” or “documents”?\n",
      "Suggestion: a document; documents\n",
      "He have collected a documents. I is there.\n",
      "                  ^^^^^^^^^^^\n",
      "Offset 33, length 2, Rule ID: PERS_PRONOUN_AGREEMENT\n",
      "Message: Did you mean “am” or “will be”?\n",
      "Suggestion: am; will be\n",
      "He have collected a documents. I is there.\n",
      "                                 ^^\n"
     ]
    }
   ],
   "source": [
    "#getting the matches\n",
    "my_matches = my_tool.check(my_text)\n",
    "\n",
    "#printing matches\n",
    "for m in my_matches:\n",
    "    print(m)"
   ]
  },
  {
   "cell_type": "code",
   "execution_count": 8,
   "id": "f7119767",
   "metadata": {},
   "outputs": [
    {
     "data": {
      "text/plain": [
       "'He has collected a document. I am there.'"
      ]
     },
     "execution_count": 8,
     "metadata": {},
     "output_type": "execute_result"
    }
   ],
   "source": [
    "#corrected sentence\n",
    "my_tool.correct(my_text)"
   ]
  },
  {
   "cell_type": "code",
   "execution_count": 10,
   "id": "69e24604",
   "metadata": {},
   "outputs": [
    {
     "data": {
      "text/plain": [
       "<LanguageTag \"en-US\">"
      ]
     },
     "execution_count": 10,
     "metadata": {},
     "output_type": "execute_result"
    }
   ],
   "source": [
    "my_tool.language"
   ]
  },
  {
   "cell_type": "code",
   "execution_count": null,
   "id": "0d1727f2",
   "metadata": {},
   "outputs": [],
   "source": [
    "\n"
   ]
  }
 ],
 "metadata": {
  "kernelspec": {
   "display_name": "Python 3 (ipykernel)",
   "language": "python",
   "name": "python3"
  },
  "language_info": {
   "codemirror_mode": {
    "name": "ipython",
    "version": 3
   },
   "file_extension": ".py",
   "mimetype": "text/x-python",
   "name": "python",
   "nbconvert_exporter": "python",
   "pygments_lexer": "ipython3",
   "version": "3.11.7"
  }
 },
 "nbformat": 4,
 "nbformat_minor": 5
}
