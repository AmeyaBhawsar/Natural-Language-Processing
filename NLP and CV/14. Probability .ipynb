{
 "cells": [
  {
   "cell_type": "markdown",
   "id": "004f527f",
   "metadata": {},
   "source": [
    "#### Theoritical Probability"
   ]
  },
  {
   "cell_type": "code",
   "execution_count": 1,
   "id": "841e7ade",
   "metadata": {},
   "outputs": [],
   "source": [
    "def coin_flip_probability():\n",
    "    heads_probability=1/2\n",
    "    return heads_probability\n",
    "\n",
    "def rolling_dice_probability(number):\n",
    "    if number not in range(1,7):\n",
    "        raise ValueError(\"Number must be between 1 and 6\")\n",
    "    probability=1/6\n",
    "    return probability"
   ]
  },
  {
   "cell_type": "code",
   "execution_count": 8,
   "id": "d78445de",
   "metadata": {},
   "outputs": [
    {
     "name": "stdout",
     "output_type": "stream",
     "text": [
      "Probability of heads in coin flip: 0.5\n",
      "Probability of rolling a 4 on a die: 0.16666666666666666\n"
     ]
    }
   ],
   "source": [
    "#exmple usage\n",
    "coin_flip_result=coin_flip_probability()\n",
    "dice_roll_result=rolling_dice_probability(2)\n",
    "\n",
    "print(\"Probability of heads in coin flip:\",coin_flip_result)\n",
    "print(\"Probability of rolling a 2 on a die:\",dice_roll_result)"
   ]
  },
  {
   "cell_type": "markdown",
   "id": "5f1c622b",
   "metadata": {},
   "source": [
    "### Experimental Probability"
   ]
  },
  {
   "cell_type": "code",
   "execution_count": 10,
   "id": "a64f6a97",
   "metadata": {},
   "outputs": [],
   "source": [
    "import random\n",
    "import pandas as pd"
   ]
  },
  {
   "cell_type": "code",
   "execution_count": 11,
   "id": "449bd6fe",
   "metadata": {},
   "outputs": [],
   "source": [
    "def simulate_coin_flips(num_flips):\n",
    "    results=[]\n",
    "    for _ in range(num_flips):\n",
    "        flip=random.choice(['heads','tails'])\n",
    "        results.append(flip)\n",
    "        \n",
    "    return results"
   ]
  },
  {
   "cell_type": "code",
   "execution_count": 12,
   "id": "54f93702",
   "metadata": {},
   "outputs": [
    {
     "data": {
      "text/plain": [
       "['heads',\n",
       " 'heads',\n",
       " 'tails',\n",
       " 'heads',\n",
       " 'heads',\n",
       " 'heads',\n",
       " 'heads',\n",
       " 'tails',\n",
       " 'heads',\n",
       " 'tails',\n",
       " 'heads',\n",
       " 'heads',\n",
       " 'tails',\n",
       " 'heads',\n",
       " 'tails',\n",
       " 'tails',\n",
       " 'tails',\n",
       " 'tails',\n",
       " 'tails',\n",
       " 'heads',\n",
       " 'tails',\n",
       " 'heads',\n",
       " 'heads',\n",
       " 'tails',\n",
       " 'tails',\n",
       " 'heads',\n",
       " 'tails',\n",
       " 'tails',\n",
       " 'tails',\n",
       " 'tails',\n",
       " 'tails',\n",
       " 'heads',\n",
       " 'tails',\n",
       " 'tails',\n",
       " 'tails',\n",
       " 'heads',\n",
       " 'tails',\n",
       " 'tails',\n",
       " 'tails',\n",
       " 'heads',\n",
       " 'tails',\n",
       " 'heads',\n",
       " 'heads',\n",
       " 'heads',\n",
       " 'tails',\n",
       " 'heads',\n",
       " 'tails',\n",
       " 'tails',\n",
       " 'tails',\n",
       " 'heads',\n",
       " 'heads',\n",
       " 'tails',\n",
       " 'heads',\n",
       " 'heads',\n",
       " 'tails',\n",
       " 'heads',\n",
       " 'heads',\n",
       " 'tails',\n",
       " 'heads',\n",
       " 'tails',\n",
       " 'tails',\n",
       " 'heads',\n",
       " 'tails',\n",
       " 'tails',\n",
       " 'tails',\n",
       " 'tails',\n",
       " 'heads',\n",
       " 'heads',\n",
       " 'tails',\n",
       " 'tails',\n",
       " 'tails',\n",
       " 'tails',\n",
       " 'heads',\n",
       " 'tails',\n",
       " 'heads',\n",
       " 'tails',\n",
       " 'tails',\n",
       " 'heads',\n",
       " 'tails',\n",
       " 'tails',\n",
       " 'heads',\n",
       " 'tails',\n",
       " 'tails',\n",
       " 'tails',\n",
       " 'tails',\n",
       " 'tails',\n",
       " 'heads',\n",
       " 'heads',\n",
       " 'tails',\n",
       " 'heads',\n",
       " 'tails',\n",
       " 'tails',\n",
       " 'tails',\n",
       " 'tails',\n",
       " 'tails',\n",
       " 'tails',\n",
       " 'heads',\n",
       " 'tails',\n",
       " 'tails',\n",
       " 'heads']"
      ]
     },
     "execution_count": 12,
     "metadata": {},
     "output_type": "execute_result"
    }
   ],
   "source": [
    "simulate_coin_flips(100)"
   ]
  },
  {
   "cell_type": "code",
   "execution_count": 13,
   "id": "7d9783d1",
   "metadata": {},
   "outputs": [
    {
     "data": {
      "text/plain": [
       "tails    61\n",
       "heads    39\n",
       "Name: count, dtype: int64"
      ]
     },
     "execution_count": 13,
     "metadata": {},
     "output_type": "execute_result"
    }
   ],
   "source": [
    "pd.Series(simulate_coin_flips(100)).value_counts()"
   ]
  },
  {
   "cell_type": "code",
   "execution_count": 14,
   "id": "c72ffa24",
   "metadata": {},
   "outputs": [],
   "source": [
    "def calculate_experimental_probability(results,event):\n",
    "    event_count=results.count(event)\n",
    "    total_flips=len(results)\n",
    "    probability=event_count/total_flips\n",
    "    return probability"
   ]
  },
  {
   "cell_type": "code",
   "execution_count": 17,
   "id": "da2b0d54",
   "metadata": {},
   "outputs": [
    {
     "name": "stdout",
     "output_type": "stream",
     "text": [
      "Number of flips:1000\n",
      "Heads probability: 0.5050\n",
      "Tails probability: 0.4950\n"
     ]
    }
   ],
   "source": [
    "## Example usage\n",
    "num_flips=1000\n",
    "simulation_results=simulate_coin_flips(num_flips)\n",
    "\n",
    "heads_probability=calculate_experimental_probability(simulation_results,\"heads\")\n",
    "tails_probability=calculate_experimental_probability(simulation_results,\"tails\")\n",
    "\n",
    "print(f\"Number of flips:{num_flips}\")\n",
    "print(f\"Heads probability: {heads_probability:.4f}\")\n",
    "print(f\"Tails probability: {tails_probability:.4f}\")\n"
   ]
  },
  {
   "cell_type": "markdown",
   "id": "79c307f6",
   "metadata": {},
   "source": [
    "## Linear Growth"
   ]
  },
  {
   "cell_type": "code",
   "execution_count": 18,
   "id": "e50447be",
   "metadata": {},
   "outputs": [],
   "source": [
    "import numpy as np"
   ]
  },
  {
   "cell_type": "code",
   "execution_count": 19,
   "id": "8130b831",
   "metadata": {},
   "outputs": [],
   "source": [
    "x=np.arange(0,10,0.25)"
   ]
  },
  {
   "cell_type": "code",
   "execution_count": 20,
   "id": "0d63d236",
   "metadata": {},
   "outputs": [
    {
     "name": "stdout",
     "output_type": "stream",
     "text": [
      "[0.   0.25 0.5  0.75 1.   1.25 1.5  1.75 2.   2.25 2.5  2.75 3.   3.25\n",
      " 3.5  3.75 4.   4.25 4.5  4.75 5.   5.25 5.5  5.75 6.   6.25 6.5  6.75\n",
      " 7.   7.25 7.5  7.75 8.   8.25 8.5  8.75 9.   9.25 9.5  9.75]\n"
     ]
    }
   ],
   "source": [
    "print(x)"
   ]
  },
  {
   "cell_type": "code",
   "execution_count": 21,
   "id": "732a1f2c",
   "metadata": {},
   "outputs": [
    {
     "data": {
      "text/plain": [
       "array([15.559096  , 15.64575975, 15.7324235 , 15.81908725, 15.905751  ,\n",
       "       15.99241475, 16.0790785 , 16.16574225, 16.252406  , 16.33906975,\n",
       "       16.4257335 , 16.51239725, 16.599061  , 16.68572475, 16.7723885 ,\n",
       "       16.85905225, 16.945716  , 17.03237975, 17.1190435 , 17.20570725,\n",
       "       17.292371  , 17.37903475, 17.4656985 , 17.55236225, 17.639026  ,\n",
       "       17.72568975, 17.8123535 , 17.89901725, 17.985681  , 18.07234475,\n",
       "       18.1590085 , 18.24567225, 18.332336  , 18.41899975, 18.5056635 ,\n",
       "       18.59232725, 18.678991  , 18.76565475, 18.8523185 , 18.93898225])"
      ]
     },
     "execution_count": 21,
     "metadata": {},
     "output_type": "execute_result"
    }
   ],
   "source": [
    "y=x*0.346655+15.559096\n",
    "y"
   ]
  },
  {
   "cell_type": "code",
   "execution_count": 22,
   "id": "50079d9f",
   "metadata": {},
   "outputs": [],
   "source": [
    "import matplotlib.pyplot as plt"
   ]
  },
  {
   "cell_type": "code",
   "execution_count": 25,
   "id": "eee42b81",
   "metadata": {},
   "outputs": [
    {
     "data": {
      "text/plain": [
       "[<matplotlib.lines.Line2D at 0x1913db49890>]"
      ]
     },
     "execution_count": 25,
     "metadata": {},
     "output_type": "execute_result"
    },
    {
     "data": {
      "image/png": "[encoded data removed]",
      "text/plain": [
       "<Figure size 640x480 with 1 Axes>"
      ]
     },
     "metadata": {},
     "output_type": "display_data"
    }
   ],
   "source": [
    "plt.plot(x,y)"
   ]
  },
  {
   "cell_type": "code",
   "execution_count": 26,
   "id": "41e06f47",
   "metadata": {},
   "outputs": [
    {
     "data": {
      "text/plain": [
       "array([15.559096  , 15.47243225, 15.3857685 , 15.29910475, 15.212441  ,\n",
       "       15.12577725, 15.0391135 , 14.95244975, 14.865786  , 14.77912225,\n",
       "       14.6924585 , 14.60579475, 14.519131  , 14.43246725, 14.3458035 ,\n",
       "       14.25913975, 14.172476  , 14.08581225, 13.9991485 , 13.91248475,\n",
       "       13.825821  , 13.73915725, 13.6524935 , 13.56582975, 13.479166  ,\n",
       "       13.39250225, 13.3058385 , 13.21917475, 13.132511  , 13.04584725,\n",
       "       12.9591835 , 12.87251975, 12.785856  , 12.69919225, 12.6125285 ,\n",
       "       12.52586475, 12.439201  , 12.35253725, 12.2658735 , 12.17920975])"
      ]
     },
     "execution_count": 26,
     "metadata": {},
     "output_type": "execute_result"
    }
   ],
   "source": [
    "y=x*-0.346655+15.559096\n",
    "y"
   ]
  },
  {
   "cell_type": "code",
   "execution_count": 27,
   "id": "f9d6cf2b",
   "metadata": {},
   "outputs": [
    {
     "data": {
      "text/plain": [
       "[<matplotlib.lines.Line2D at 0x1913dbbe790>]"
      ]
     },
     "execution_count": 27,
     "metadata": {},
     "output_type": "execute_result"
    },
    {
     "data": {
      "image/png": "[encoded data removed]",
      "text/plain": [
       "<Figure size 640x480 with 1 Axes>"
      ]
     },
     "metadata": {},
     "output_type": "display_data"
    }
   ],
   "source": [
    "plt.plot(x,y)"
   ]
  },
  {
   "cell_type": "code",
   "execution_count": 28,
   "id": "16ab6e0b",
   "metadata": {},
   "outputs": [
    {
     "data": {
      "text/plain": [
       "array([[ 1., -1.],\n",
       "       [-1.,  1.]])"
      ]
     },
     "execution_count": 28,
     "metadata": {},
     "output_type": "execute_result"
    }
   ],
   "source": [
    "np.corrcoef(x,y)"
   ]
  },
  {
   "cell_type": "markdown",
   "id": "09d01d73",
   "metadata": {},
   "source": [
    "### Exponential/Polynomial Growth"
   ]
  },
  {
   "cell_type": "code",
   "execution_count": 29,
   "id": "eff3dacf",
   "metadata": {},
   "outputs": [],
   "source": [
    "y=x**2+5.623"
   ]
  },
  {
   "cell_type": "code",
   "execution_count": 30,
   "id": "6863766e",
   "metadata": {},
   "outputs": [
    {
     "data": {
      "text/plain": [
       "[<matplotlib.lines.Line2D at 0x1913dc34810>]"
      ]
     },
     "execution_count": 30,
     "metadata": {},
     "output_type": "execute_result"
    },
    {
     "data": {
      "image/png": "[encoded data removed]",
      "text/plain": [
       "<Figure size 640x480 with 1 Axes>"
      ]
     },
     "metadata": {},
     "output_type": "display_data"
    }
   ],
   "source": [
    "plt.plot(x,y)"
   ]
  },
  {
   "cell_type": "markdown",
   "id": "6064242c",
   "metadata": {},
   "source": [
    "##### Logarithmic Growth"
   ]
  },
  {
   "cell_type": "code",
   "execution_count": 32,
   "id": "d41db2a0",
   "metadata": {},
   "outputs": [
    {
     "name": "stderr",
     "output_type": "stream",
     "text": [
      "C:\\Users\\Administrator.DAI-PC2\\AppData\\Local\\Temp\\ipykernel_20760\\2360429912.py:1: RuntimeWarning: divide by zero encountered in log\n",
      "  plt.plot(x,np.log(x))\n"
     ]
    },
    {
     "data": {
      "text/plain": [
       "[<matplotlib.lines.Line2D at 0x1913e1181d0>]"
      ]
     },
     "execution_count": 32,
     "metadata": {},
     "output_type": "execute_result"
    },
    {
     "data": {
      "image/png": "[encoded data removed]",
      "text/plain": [
       "<Figure size 640x480 with 1 Axes>"
      ]
     },
     "metadata": {},
     "output_type": "display_data"
    }
   ],
   "source": [
    "plt.plot(x,np.log(x))"
   ]
  },
  {
   "cell_type": "markdown",
   "id": "0b3bd342",
   "metadata": {},
   "source": [
    "#### Logistic Growth 1/1+e^(-x)"
   ]
  },
  {
   "cell_type": "code",
   "execution_count": 35,
   "id": "86275efe",
   "metadata": {},
   "outputs": [],
   "source": [
    "x=np.arange(-5,5,0.25)"
   ]
  },
  {
   "cell_type": "code",
   "execution_count": 36,
   "id": "c03b84de",
   "metadata": {},
   "outputs": [
    {
     "data": {
      "text/plain": [
       "array([-5.  , -4.75, -4.5 , -4.25, -4.  , -3.75, -3.5 , -3.25, -3.  ,\n",
       "       -2.75, -2.5 , -2.25, -2.  , -1.75, -1.5 , -1.25, -1.  , -0.75,\n",
       "       -0.5 , -0.25,  0.  ,  0.25,  0.5 ,  0.75,  1.  ,  1.25,  1.5 ,\n",
       "        1.75,  2.  ,  2.25,  2.5 ,  2.75,  3.  ,  3.25,  3.5 ,  3.75,\n",
       "        4.  ,  4.25,  4.5 ,  4.75])"
      ]
     },
     "execution_count": 36,
     "metadata": {},
     "output_type": "execute_result"
    }
   ],
   "source": [
    "x"
   ]
  },
  {
   "cell_type": "code",
   "execution_count": 37,
   "id": "b02e357e",
   "metadata": {},
   "outputs": [],
   "source": [
    "y=1/(1+np.exp(-x))"
   ]
  },
  {
   "cell_type": "code",
   "execution_count": 38,
   "id": "5afde498",
   "metadata": {},
   "outputs": [
    {
     "data": {
      "text/plain": [
       "array([0.00669285, 0.00857749, 0.01098694, 0.01406363, 0.01798621,\n",
       "       0.02297737, 0.02931223, 0.03732689, 0.04742587, 0.06008665,\n",
       "       0.07585818, 0.09534946, 0.11920292, 0.1480472 , 0.18242552,\n",
       "       0.22270014, 0.26894142, 0.3208213 , 0.37754067, 0.4378235 ,\n",
       "       0.5       , 0.5621765 , 0.62245933, 0.6791787 , 0.73105858,\n",
       "       0.77729986, 0.81757448, 0.8519528 , 0.88079708, 0.90465054,\n",
       "       0.92414182, 0.93991335, 0.95257413, 0.96267311, 0.97068777,\n",
       "       0.97702263, 0.98201379, 0.98593637, 0.98901306, 0.99142251])"
      ]
     },
     "execution_count": 38,
     "metadata": {},
     "output_type": "execute_result"
    }
   ],
   "source": [
    "y"
   ]
  },
  {
   "cell_type": "code",
   "execution_count": 40,
   "id": "10022605",
   "metadata": {},
   "outputs": [
    {
     "data": {
      "text/plain": [
       "[<matplotlib.lines.Line2D at 0x1913e185510>]"
      ]
     },
     "execution_count": 40,
     "metadata": {},
     "output_type": "execute_result"
    },
    {
     "data": {
      "image/png": "[encoded data removed]",
      "text/plain": [
       "<Figure size 640x480 with 1 Axes>"
      ]
     },
     "metadata": {},
     "output_type": "display_data"
    }
   ],
   "source": [
    "plt.plot(x,y)"
   ]
  },
  {
   "cell_type": "code",
   "execution_count": null,
   "id": "c6c1a48d",
   "metadata": {},
   "outputs": [],
   "source": []
  },
  {
   "cell_type": "code",
   "execution_count": null,
   "id": "f98fb861",
   "metadata": {},
   "outputs": [],
   "source": []
  }
 ],
 "metadata": {
  "kernelspec": {
   "display_name": "Python 3 (ipykernel)",
   "language": "python",
   "name": "python3"
  },
  "language_info": {
   "codemirror_mode": {
    "name": "ipython",
    "version": 3
   },
   "file_extension": ".py",
   "mimetype": "text/x-python",
   "name": "python",
   "nbconvert_exporter": "python",
   "pygments_lexer": "ipython3",
   "version": "3.11.7"
  }
 },
 "nbformat": 4,
 "nbformat_minor": 5
}
