{
 "cells": [
  {
   "cell_type": "code",
   "execution_count": 1,
   "id": "a6d892f3",
   "metadata": {},
   "outputs": [],
   "source": [
    "# All transformation can be performed using affine"
   ]
  },
  {
   "cell_type": "code",
   "execution_count": 1,
   "id": "3941a5d5",
   "metadata": {},
   "outputs": [],
   "source": [
    "import cv2\n",
    "import matplotlib.pyplot as plt\n",
    "import numpy as np"
   ]
  },
  {
   "cell_type": "code",
   "execution_count": 106,
   "id": "62fc65e2",
   "metadata": {},
   "outputs": [],
   "source": [
    "img=cv2.imread('images/lenna.png')\n",
    "\n",
    "tx=50\n",
    "ty=100\n",
    "angle=45\n",
    "scale=1.2\n",
    "shear_x=0.3\n",
    "shear_y=0.2\n",
    "\n",
    "#Create transformation matrix\n",
    "M=np.float32([[scale*np.cos(np.radians(angle)), shear_x, tx],\n",
    "             [shear_y, scale*np.sin(np.radians(angle)), ty]])\n",
    "\n",
    "#Apply transformation using wrapAffine\n",
    "imag_affine=cv2.warpAffine(img,M,(512,512))\n",
    "\n",
    "#display original and affine transformed images\n",
    "cv2.imshow('image',imag_affine)\n",
    "cv2.waitKey(0)\n",
    "cv2.destroyAllWindows()\n",
    "\n"
   ]
  },
  {
   "cell_type": "code",
   "execution_count": 2,
   "id": "4122438b",
   "metadata": {},
   "outputs": [],
   "source": [
    "img=cv2.imread('images/lenna.png')\n",
    "\n",
    "tx=50\n",
    "ty=200\n",
    "angle=-20\n",
    "scale=200/512\n",
    "\n",
    "\n",
    "#Create transformation matrix\n",
    "M=np.float32([[scale*np.cos(np.radians(angle)),-np.sin(np.radians(angle)), tx],\n",
    "             [np.sin(np.radians(angle)), scale*np.cos(np.radians(angle)), ty]])\n",
    "\n",
    "#Apply transformation using wrapAffine\n",
    "imag_affine=cv2.warpAffine(img,M,(512,512))\n",
    "\n",
    "#display original and affine transformed images\n",
    "cv2.imshow('image',imag_affine)\n",
    "cv2.waitKey(0)\n",
    "cv2.destroyAllWindows()\n",
    "\n"
   ]
  },
  {
   "cell_type": "code",
   "execution_count": null,
   "id": "8b56db29",
   "metadata": {},
   "outputs": [],
   "source": []
  },
  {
   "cell_type": "code",
   "execution_count": null,
   "id": "cd8ebb37",
   "metadata": {},
   "outputs": [],
   "source": []
  }
 ],
 "metadata": {
  "kernelspec": {
   "display_name": "Python 3 (ipykernel)",
   "language": "python",
   "name": "python3"
  },
  "language_info": {
   "codemirror_mode": {
    "name": "ipython",
    "version": 3
   },
   "file_extension": ".py",
   "mimetype": "text/x-python",
   "name": "python",
   "nbconvert_exporter": "python",
   "pygments_lexer": "ipython3",
   "version": "3.11.7"
  }
 },
 "nbformat": 4,
 "nbformat_minor": 5
}
