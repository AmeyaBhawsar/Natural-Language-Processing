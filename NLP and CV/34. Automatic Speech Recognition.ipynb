{
 "cells": [
  {
   "cell_type": "code",
   "execution_count": 1,
   "id": "6d8a9587",
   "metadata": {},
   "outputs": [
    {
     "name": "stdout",
     "output_type": "stream",
     "text": [
      "Defaulting to user installation because normal site-packages is not writeable\n",
      "Collecting SpeechRecognition\n",
      "  Downloading SpeechRecognition-3.10.4-py2.py3-none-any.whl.metadata (28 kB)\n",
      "Collecting PyAudio\n",
      "  Downloading PyAudio-0.2.14-cp311-cp311-win_amd64.whl.metadata (2.7 kB)\n",
      "Requirement already satisfied: requests>=2.26.0 in c:\\programdata\\anaconda3\\lib\\site-packages (from SpeechRecognition) (2.31.0)\n",
      "Requirement already satisfied: typing-extensions in c:\\programdata\\anaconda3\\lib\\site-packages (from SpeechRecognition) (4.9.0)\n",
      "Requirement already satisfied: charset-normalizer<4,>=2 in c:\\users\\administrator.dai-pc2\\appdata\\roaming\\python\\python311\\site-packages (from requests>=2.26.0->SpeechRecognition) (3.3.2)\n",
      "Requirement already satisfied: idna<4,>=2.5 in c:\\programdata\\anaconda3\\lib\\site-packages (from requests>=2.26.0->SpeechRecognition) (3.4)\n",
      "Requirement already satisfied: urllib3<3,>=1.21.1 in c:\\programdata\\anaconda3\\lib\\site-packages (from requests>=2.26.0->SpeechRecognition) (2.0.7)\n",
      "Requirement already satisfied: certifi>=2017.4.17 in c:\\programdata\\anaconda3\\lib\\site-packages (from requests>=2.26.0->SpeechRecognition) (2024.2.2)\n",
      "Downloading SpeechRecognition-3.10.4-py2.py3-none-any.whl (32.8 MB)\n",
      "   ---------------------------------------- 0.0/32.8 MB ? eta -:--:--\n",
      "   ---------------------------------------- 0.2/32.8 MB 5.0 MB/s eta 0:00:07\n",
      "   - -------------------------------------- 0.8/32.8 MB 8.8 MB/s eta 0:00:04\n",
      "   -- ------------------------------------- 2.2/32.8 MB 15.4 MB/s eta 0:00:02\n",
      "   ------ --------------------------------- 5.2/32.8 MB 27.5 MB/s eta 0:00:02\n",
      "   ------- -------------------------------- 6.4/32.8 MB 31.3 MB/s eta 0:00:01\n",
      "   -------- ------------------------------- 6.7/32.8 MB 23.8 MB/s eta 0:00:02\n",
      "   -------- ------------------------------- 7.2/32.8 MB 21.9 MB/s eta 0:00:02\n",
      "   ---------- ----------------------------- 8.4/32.8 MB 22.5 MB/s eta 0:00:02\n",
      "   ------------ --------------------------- 10.0/32.8 MB 23.6 MB/s eta 0:00:01\n",
      "   ------------- -------------------------- 11.0/32.8 MB 27.3 MB/s eta 0:00:01\n",
      "   -------------- ------------------------- 11.8/32.8 MB 27.3 MB/s eta 0:00:01\n",
      "   ------------------ --------------------- 15.3/32.8 MB 27.3 MB/s eta 0:00:01\n",
      "   ---------------------- ----------------- 18.1/32.8 MB 38.5 MB/s eta 0:00:01\n",
      "   ------------------------- -------------- 21.2/32.8 MB 50.4 MB/s eta 0:00:01\n",
      "   ----------------------------- ---------- 24.2/32.8 MB 65.2 MB/s eta 0:00:01\n",
      "   --------------------------------- ------ 27.1/32.8 MB 59.5 MB/s eta 0:00:01\n",
      "   ------------------------------------ --- 29.9/32.8 MB 65.6 MB/s eta 0:00:01\n",
      "   ---------------------------------------  32.7/32.8 MB 59.5 MB/s eta 0:00:01\n",
      "   ---------------------------------------  32.8/32.8 MB 54.4 MB/s eta 0:00:01\n",
      "   ---------------------------------------  32.8/32.8 MB 54.4 MB/s eta 0:00:01\n",
      "   ---------------------------------------- 32.8/32.8 MB 34.4 MB/s eta 0:00:00\n",
      "Downloading PyAudio-0.2.14-cp311-cp311-win_amd64.whl (164 kB)\n",
      "   ---------------------------------------- 0.0/164.1 kB ? eta -:--:--\n",
      "   ---------------------------------------- 164.1/164.1 kB 9.6 MB/s eta 0:00:00\n",
      "Installing collected packages: PyAudio, SpeechRecognition\n",
      "Successfully installed PyAudio-0.2.14 SpeechRecognition-3.10.4\n"
     ]
    }
   ],
   "source": [
    "!pip install SpeechRecognition PyAudio "
   ]
  },
  {
   "cell_type": "code",
   "execution_count": 2,
   "id": "1bf56126",
   "metadata": {},
   "outputs": [],
   "source": [
    "import speech_recognition as sr"
   ]
  },
  {
   "cell_type": "code",
   "execution_count": 3,
   "id": "2df87f63",
   "metadata": {},
   "outputs": [],
   "source": [
    "#create object of microphone\n",
    "\n",
    "r = sr.Recognizer()"
   ]
  },
  {
   "cell_type": "markdown",
   "id": "e246c407",
   "metadata": {},
   "source": [
    "### open microphone,recognize and convert"
   ]
  },
  {
   "cell_type": "code",
   "execution_count": null,
   "id": "b0a33575",
   "metadata": {},
   "outputs": [],
   "source": [
    "# connect your headphones to computer\n",
    "\n",
    "with sr.Microphone() as source:\n",
    "    r.adjust_for_ambient_noise(source)\n",
    "    print('Speak:')\n",
    "    audio = r.listen(source)\n",
    "    print('You said:', r.recognize_google(audio))"
   ]
  },
  {
   "cell_type": "code",
   "execution_count": null,
   "id": "9e732a4f",
   "metadata": {},
   "outputs": [],
   "source": []
  },
  {
   "cell_type": "code",
   "execution_count": null,
   "id": "dc1336c7",
   "metadata": {},
   "outputs": [],
   "source": []
  }
 ],
 "metadata": {
  "kernelspec": {
   "display_name": "Python 3 (ipykernel)",
   "language": "python",
   "name": "python3"
  },
  "language_info": {
   "codemirror_mode": {
    "name": "ipython",
    "version": 3
   },
   "file_extension": ".py",
   "mimetype": "text/x-python",
   "name": "python",
   "nbconvert_exporter": "python",
   "pygments_lexer": "ipython3",
   "version": "3.11.7"
  }
 },
 "nbformat": 4,
 "nbformat_minor": 5
}
